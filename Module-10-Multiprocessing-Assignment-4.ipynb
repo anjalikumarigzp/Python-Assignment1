{
 "cells": [
  {
   "cell_type": "markdown",
   "id": "0bfdf5a2-d605-4307-bfa8-fddb894cbfda",
   "metadata": {},
   "source": [
    "## Q1. What is multiprocessing in Python? Why is it useful?\n",
    "\n",
    "**Multiprocessing** in Python is a built-in module that supports the creation of multiple processes. \n",
    "It allows programs to take advantage of multiple CPU cores by running tasks in parallel.\n",
    "\n",
    "**Why it's useful:**\n",
    "- Bypasses Python's Global Interpreter Lock (GIL).\n",
    "- Great for CPU-bound tasks like image processing or data computation.\n",
    "- Enhances performance on multi-core systems."
   ]
  },
  {
   "cell_type": "markdown",
   "id": "e5b52135-e48d-4a14-8a1d-7d55936aaca6",
   "metadata": {},
   "source": [
    " ## Q2. What are the differences between multiprocessing and multithreading?\n",
    "\n",
    "| Feature              | Multiprocessing                           | Multithreading                           |\n",
    "|----------------------|--------------------------------------------|-------------------------------------------|\n",
    "| Mechanism            | Uses multiple processes                    | Uses multiple threads                     |\n",
    "| Memory               | Separate memory for each process           | Shared memory                             |\n",
    "| GIL (Python)         | Not affected (runs in true parallel)       | Affected (can block threads)              |\n",
    "| Best for             | CPU-bound tasks                            | I/O-bound tasks                           |\n",
    "| Overhead             | Higher                                     | Lower                                     |\n",
    "| Failure impact       | Isolated; other processes run fine         | One thread can crash the whole process   "
   ]
  },
  {
   "cell_type": "markdown",
   "id": "e4fd1f09-6855-49ae-bdc3-095a0f746fec",
   "metadata": {},
   "source": [
    "## Q3. Create a process using the multiprocessing module"
   ]
  },
  {
   "cell_type": "code",
   "execution_count": 1,
   "id": "e238004c-bd70-4f03-ab31-ebeee9ff5529",
   "metadata": {},
   "outputs": [],
   "source": [
    "from multiprocessing import Process\n",
    "\n",
    "def show_message():\n",
    "    print(\"This is a separate process running!\")\n",
    "\n",
    "if __name__ == \"__main__\":\n",
    "    process = Process(target=show_message)\n",
    "    process.start()\n",
    "    process.join()  # Wait for the process to finish\n"
   ]
  },
  {
   "cell_type": "markdown",
   "id": "484efd26-1da3-4053-9edc-e6b182fca669",
   "metadata": {},
   "source": [
    "## Q4. What is a multiprocessing pool in Python? Why is it used?"
   ]
  },
  {
   "cell_type": "markdown",
   "id": "66c64a0c-479e-4291-8f72-3814cb1f956c",
   "metadata": {},
   "source": [
    "### Explanation:\n",
    "A Pool is an abstraction from the multiprocessing module that offers:\n",
    "- Management of a **pool of worker processes**.\n",
    "- Distribution of data across processes.\n",
    "- Parallel execution of a function over multiple inputs.\n",
    "\n",
    "### Use Case:\n",
    "When you want to apply a function to a list or range of values **in parallel**, using multiple processes for better speed.\n"
   ]
  },
  {
   "cell_type": "markdown",
   "id": "065ba356-c3a1-43de-9497-98ec18cea1af",
   "metadata": {},
   "source": [
    "## Q5. Example: Create a pool of worker processes"
   ]
  },
  {
   "cell_type": "code",
   "execution_count": null,
   "id": "f47e22b8-2053-4489-900b-341e9ea078db",
   "metadata": {},
   "outputs": [],
   "source": [
    "from multiprocessing import Pool\n",
    "\n",
    "def square(x):\n",
    "    return x * x\n",
    "\n",
    "if __name__ == \"__main__\":\n",
    "    with Pool(4) as pool:  # Create a pool with 4 processes\n",
    "        numbers = [1, 2, 3, 4, 5]\n",
    "        results = pool.map(square, numbers)\n",
    "        print(\"Squares:\", results)\n"
   ]
  },
  {
   "cell_type": "markdown",
   "id": "a34f6798-59ec-45c9-8b93-2f6f81eeffac",
   "metadata": {},
   "source": [
    "## Q6. Example: Create 4 processes, each printing a different number"
   ]
  },
  {
   "cell_type": "code",
   "execution_count": null,
   "id": "4a2d368c-b9ae-41f6-b10b-9c904159deab",
   "metadata": {},
   "outputs": [],
   "source": [
    "from multiprocessing import Process\n",
    "\n",
    "def print_number(n):\n",
    "    print(f\"Process says: {n}\")\n",
    "\n",
    "if __name__ == \"__main__\":\n",
    "    numbers = [10, 20, 30, 40]\n",
    "    processes = []\n",
    "\n",
    "    for num in numbers:\n",
    "        p = Process(target=print_number, args=(num,))\n",
    "        processes.append(p)\n",
    "        p.start()\n",
    "\n",
    "    for p in processes:\n",
    "        p.join()  # Ensure all processes complete\n"
   ]
  },
  {
   "cell_type": "code",
   "execution_count": null,
   "id": "165f6aa4-dc7d-430b-be48-5fedfa003308",
   "metadata": {},
   "outputs": [],
   "source": []
  }
 ],
 "metadata": {
  "kernelspec": {
   "display_name": "Python 3 (ipykernel)",
   "language": "python",
   "name": "python3"
  },
  "language_info": {
   "codemirror_mode": {
    "name": "ipython",
    "version": 3
   },
   "file_extension": ".py",
   "mimetype": "text/x-python",
   "name": "python",
   "nbconvert_exporter": "python",
   "pygments_lexer": "ipython3",
   "version": "3.11.5"
  },
  "widgets": {
   "application/vnd.jupyter.widget-state+json": {
    "state": {},
    "version_major": 2,
    "version_minor": 0
   }
  }
 },
 "nbformat": 4,
 "nbformat_minor": 5
}
