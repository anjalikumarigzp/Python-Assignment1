{
 "cells": [
  {
   "cell_type": "markdown",
   "id": "02e4ad3f-dc22-424c-bdc3-d389a83d4992",
   "metadata": {},
   "source": [
    "Q1. Create one variable containing following type of data:\n",
    "(i) string\n",
    "(ii) list\n",
    "(iii) float\n",
    "(iv) tuple"
   ]
  },
  {
   "cell_type": "code",
   "execution_count": 1,
   "id": "24d3d6f7-6bad-439c-8faf-86af75464c02",
   "metadata": {},
   "outputs": [],
   "source": [
    "a=[\"Arya\",23,6.09,31,\"45\"]"
   ]
  },
  {
   "cell_type": "code",
   "execution_count": 2,
   "id": "f38f2fd2-7816-40e2-819f-c58eb2f5cfff",
   "metadata": {},
   "outputs": [
    {
     "data": {
      "text/plain": [
       "['Arya', 23, 6.09, 31, '45']"
      ]
     },
     "execution_count": 2,
     "metadata": {},
     "output_type": "execute_result"
    }
   ],
   "source": [
    "a"
   ]
  },
  {
   "cell_type": "markdown",
   "id": "d95af608-3374-4a7b-9996-5cbf19febf50",
   "metadata": {},
   "source": [
    "Q2. Given are some following variables containing data:\n",
    "(i) var1 = ‘ ‘\n",
    "(ii) var2 = ‘[ DS , ML , Python]’\n",
    "(iii) var3 = [ ‘DS’ , ’ML’ , ‘Python’ ]\n",
    "(iv) var4 = 1.\n",
    "What will be the data type of the above given variable."
   ]
  },
  {
   "cell_type": "code",
   "execution_count": 10,
   "id": "0cef3f9b-8f74-4ddd-934f-502637fdec35",
   "metadata": {},
   "outputs": [],
   "source": [
    "var1 = ' '\n",
    "var2 = '[ DS , ML , Python]'\n",
    "var3 = [ 'DS' , 'ML' , 'Python' ]\n",
    "var4 = 1."
   ]
  },
  {
   "cell_type": "code",
   "execution_count": 13,
   "id": "8ed3e7f1-ada7-40d3-80df-89b2fc6bb6df",
   "metadata": {},
   "outputs": [
    {
     "data": {
      "text/plain": [
       "str"
      ]
     },
     "execution_count": 13,
     "metadata": {},
     "output_type": "execute_result"
    }
   ],
   "source": [
    "type(var1)\n"
   ]
  },
  {
   "cell_type": "code",
   "execution_count": 14,
   "id": "e3aeef69-8ef8-44e1-8779-1a8248b12b2d",
   "metadata": {},
   "outputs": [
    {
     "data": {
      "text/plain": [
       "str"
      ]
     },
     "execution_count": 14,
     "metadata": {},
     "output_type": "execute_result"
    }
   ],
   "source": [
    "type(var2)"
   ]
  },
  {
   "cell_type": "code",
   "execution_count": 15,
   "id": "2a1a1b66-822d-4ea2-b2d5-e661818b4dca",
   "metadata": {},
   "outputs": [
    {
     "data": {
      "text/plain": [
       "list"
      ]
     },
     "execution_count": 15,
     "metadata": {},
     "output_type": "execute_result"
    }
   ],
   "source": [
    "type(var3)"
   ]
  },
  {
   "cell_type": "code",
   "execution_count": 16,
   "id": "ee055700-f51e-4335-8785-3fd9adbfcb4d",
   "metadata": {},
   "outputs": [
    {
     "data": {
      "text/plain": [
       "float"
      ]
     },
     "execution_count": 16,
     "metadata": {},
     "output_type": "execute_result"
    }
   ],
   "source": [
    "type(var4)"
   ]
  },
  {
   "cell_type": "markdown",
   "id": "170191aa-2134-4cc2-bff6-eaae09af7234",
   "metadata": {},
   "source": [
    "Q3. Explain the use of the following operators using an example:\n",
    "(i) /\n",
    "(ii) %\n",
    "(iii) //\n",
    "(iv) **"
   ]
  },
  {
   "cell_type": "code",
   "execution_count": 6,
   "id": "280ecfc3-5efd-4a9d-800f-c3f7c4dae211",
   "metadata": {},
   "outputs": [
    {
     "data": {
      "text/plain": [
       "9.333333333333334"
      ]
     },
     "execution_count": 6,
     "metadata": {},
     "output_type": "execute_result"
    }
   ],
   "source": [
    "56/6 #Division(float): divides the first operand by the second and it gives float value"
   ]
  },
  {
   "cell_type": "code",
   "execution_count": 7,
   "id": "d037d33b-8f0f-49a9-8f38-aa3f82a370e6",
   "metadata": {},
   "outputs": [
    {
     "data": {
      "text/plain": [
       "3"
      ]
     },
     "execution_count": 7,
     "metadata": {},
     "output_type": "execute_result"
    }
   ],
   "source": [
    "45%6 #Modulus: returns the remainder when the first operand is divided by the second"
   ]
  },
  {
   "cell_type": "code",
   "execution_count": 8,
   "id": "988b2f6a-0c23-45b5-9262-8e9a38a5b9a4",
   "metadata": {},
   "outputs": [
    {
     "data": {
      "text/plain": [
       "27"
      ]
     },
     "execution_count": 8,
     "metadata": {},
     "output_type": "execute_result"
    }
   ],
   "source": [
    "3**3 #Exponentiation((Power): Returns first raised to power second"
   ]
  },
  {
   "cell_type": "code",
   "execution_count": 9,
   "id": "f67d276e-3885-4a0a-b76b-4a33369942e3",
   "metadata": {},
   "outputs": [
    {
     "data": {
      "text/plain": [
       "9"
      ]
     },
     "execution_count": 9,
     "metadata": {},
     "output_type": "execute_result"
    }
   ],
   "source": [
    "56//6 #Floor division): divides the first operand by the second and it gives integer value only"
   ]
  },
  {
   "cell_type": "markdown",
   "id": "7f38f5b8-03a5-431d-959f-45d68ad3af9f",
   "metadata": {},
   "source": [
    "Q4. Create a list of length 10 of your choice containing multiple types of data. Using for loop print the\n",
    "element and its data type."
   ]
  },
  {
   "cell_type": "code",
   "execution_count": 23,
   "id": "de7d4e69-fc2f-4d8e-8a62-431eda42e23c",
   "metadata": {},
   "outputs": [],
   "source": [
    "Mylist=[1,5,6.3,45,'A',34,'H',5.0,'Suyash',45]"
   ]
  },
  {
   "cell_type": "code",
   "execution_count": 25,
   "id": "89647469-9910-4214-9fbf-6f82d5927227",
   "metadata": {},
   "outputs": [
    {
     "data": {
      "text/plain": [
       "10"
      ]
     },
     "execution_count": 25,
     "metadata": {},
     "output_type": "execute_result"
    }
   ],
   "source": [
    "len(Mylist)"
   ]
  },
  {
   "cell_type": "code",
   "execution_count": 28,
   "id": "54541a76-53b9-4d43-b16c-80595ac8a0f6",
   "metadata": {},
   "outputs": [
    {
     "name": "stdout",
     "output_type": "stream",
     "text": [
      "1\n",
      "<class 'int'>\n",
      "5\n",
      "<class 'int'>\n",
      "6.3\n",
      "<class 'float'>\n",
      "45\n",
      "<class 'int'>\n",
      "A\n",
      "<class 'str'>\n",
      "34\n",
      "<class 'int'>\n",
      "H\n",
      "<class 'str'>\n",
      "5.0\n",
      "<class 'float'>\n",
      "Suyash\n",
      "<class 'str'>\n",
      "45\n",
      "<class 'int'>\n"
     ]
    }
   ],
   "source": [
    "for i in Mylist :\n",
    "    print(i)\n",
    "    print(type(i))\n",
    "    "
   ]
  },
  {
   "cell_type": "markdown",
   "id": "707340ae-0834-44b7-9789-086f40c945cb",
   "metadata": {},
   "source": [
    "Q5. Using a while loop, verify if the number A is purely divisible by number B and if so then how many\n",
    "times it can be divisible."
   ]
  },
  {
   "cell_type": "code",
   "execution_count": 10,
   "id": "67f78f5d-7d95-4783-99dc-70c0ab35d015",
   "metadata": {},
   "outputs": [
    {
     "name": "stdin",
     "output_type": "stream",
     "text": [
      " 6\n",
      " 3\n"
     ]
    }
   ],
   "source": [
    "A=int(input())\n",
    "B=int(input())"
   ]
  },
  {
   "cell_type": "code",
   "execution_count": 15,
   "id": "201042c9-1c40-4d7d-8723-da4cc2d000f4",
   "metadata": {},
   "outputs": [
    {
     "name": "stdout",
     "output_type": "stream",
     "text": [
      "A is 2 times divisible by B\n"
     ]
    }
   ],
   "source": [
    "while A%B==0 :\n",
    "    print('A is',A//B,'times divisible by B')\n",
    "    break\n",
    "else:\n",
    "    print('A is not divisible by B')"
   ]
  },
  {
   "cell_type": "markdown",
   "id": "e4a66e06-cf7c-4764-8633-64acb693dc82",
   "metadata": {},
   "source": [
    "Q6. Create a list containing 25 int type data. Using for loop and if-else condition print if the element is\n",
    "divisible by 3 or not."
   ]
  },
  {
   "cell_type": "code",
   "execution_count": 19,
   "id": "8b55cacc-6895-42cd-8615-7a812640ba11",
   "metadata": {},
   "outputs": [],
   "source": [
    "Thislist=[1,2,3,4,5,6,7,8,9,10,11,12,13,14,15,16,17,18,19,20,21,22,23,24,25]"
   ]
  },
  {
   "cell_type": "code",
   "execution_count": 22,
   "id": "0970f15d-83a8-4101-af4f-11c41a3d5cec",
   "metadata": {},
   "outputs": [
    {
     "name": "stdout",
     "output_type": "stream",
     "text": [
      "1 not divisible by 3\n",
      "2 not divisible by 3\n",
      "3 divisible by 3\n",
      "4 not divisible by 3\n",
      "5 not divisible by 3\n",
      "6 divisible by 3\n",
      "7 not divisible by 3\n",
      "8 not divisible by 3\n",
      "9 divisible by 3\n",
      "10 not divisible by 3\n",
      "11 not divisible by 3\n",
      "12 divisible by 3\n",
      "13 not divisible by 3\n",
      "14 not divisible by 3\n",
      "15 divisible by 3\n",
      "16 not divisible by 3\n",
      "17 not divisible by 3\n",
      "18 divisible by 3\n",
      "19 not divisible by 3\n",
      "20 not divisible by 3\n",
      "21 divisible by 3\n",
      "22 not divisible by 3\n",
      "23 not divisible by 3\n",
      "24 divisible by 3\n",
      "25 not divisible by 3\n"
     ]
    }
   ],
   "source": [
    "for i in Thislist :\n",
    "    if i%3==0:\n",
    "        print(i,'divisible by 3')\n",
    "    else:\n",
    "        print(i,'not divisible by 3')"
   ]
  },
  {
   "cell_type": "markdown",
   "id": "cd10df41-0665-4f24-923a-f401b64b6e86",
   "metadata": {},
   "source": [
    "Q7. What do you understand about mutable and immutable data types? Give examples for both showing\n",
    "this property."
   ]
  },
  {
   "cell_type": "markdown",
   "id": "9284347f-3216-426a-87ac-1f7c294e5789",
   "metadata": {},
   "source": [
    "Immutable data types: These are of in-built types like int, float, bool, string, unicode, tuple. In simple words, an immutable object can’t be changed after it is created."
   ]
  },
  {
   "cell_type": "code",
   "execution_count": 24,
   "id": "a1b7d705-fe48-4ce8-b48d-e4cab6af621f",
   "metadata": {},
   "outputs": [
    {
     "data": {
      "text/plain": [
       "'Subham'"
      ]
     },
     "execution_count": 24,
     "metadata": {},
     "output_type": "execute_result"
    }
   ],
   "source": [
    "b='Subham'\n",
    "b\n"
   ]
  },
  {
   "cell_type": "code",
   "execution_count": 26,
   "id": "fca7f349-d58c-4296-bf11-21491d188e16",
   "metadata": {},
   "outputs": [
    {
     "ename": "TypeError",
     "evalue": "'str' object does not support item assignment",
     "output_type": "error",
     "traceback": [
      "\u001b[0;31m---------------------------------------------------------------------------\u001b[0m",
      "\u001b[0;31mTypeError\u001b[0m                                 Traceback (most recent call last)",
      "Cell \u001b[0;32mIn[26], line 1\u001b[0m\n\u001b[0;32m----> 1\u001b[0m \u001b[43mb\u001b[49m\u001b[43m[\u001b[49m\u001b[38;5;241;43m5\u001b[39;49m\u001b[43m]\u001b[49m\u001b[38;5;241m=\u001b[39m\u001b[38;5;124m'\u001b[39m\u001b[38;5;124mn\u001b[39m\u001b[38;5;124m'\u001b[39m\n\u001b[1;32m      2\u001b[0m b\n",
      "\u001b[0;31mTypeError\u001b[0m: 'str' object does not support item assignment"
     ]
    }
   ],
   "source": [
    "b[5]='n'\n",
    "#Sring is immutable, so it does not support item assignment"
   ]
  },
  {
   "cell_type": "markdown",
   "id": "799668b5-beea-4adb-b8e8-3dbf0f54fae8",
   "metadata": {},
   "source": [
    "Mutable data types : These are of type list, dict, set . We can change its object by doing item assignment."
   ]
  },
  {
   "cell_type": "code",
   "execution_count": 27,
   "id": "8a2d71ee-a89c-4545-b988-442fca22bbb6",
   "metadata": {},
   "outputs": [
    {
     "data": {
      "text/plain": [
       "[1, 5, 8, 10]"
      ]
     },
     "execution_count": 27,
     "metadata": {},
     "output_type": "execute_result"
    }
   ],
   "source": [
    "L=[1,5,8,10]\n",
    "L"
   ]
  },
  {
   "cell_type": "code",
   "execution_count": 28,
   "id": "852b50c9-2419-402d-aca8-442debd09284",
   "metadata": {},
   "outputs": [
    {
     "data": {
      "text/plain": [
       "[1111, 5, 8, 10]"
      ]
     },
     "execution_count": 28,
     "metadata": {},
     "output_type": "execute_result"
    }
   ],
   "source": [
    "L[0]=1111\n",
    "L"
   ]
  },
  {
   "cell_type": "code",
   "execution_count": null,
   "id": "76ba3d2a-ee9e-4efb-b0bf-941c05e13fd1",
   "metadata": {},
   "outputs": [],
   "source": []
  }
 ],
 "metadata": {
  "kernelspec": {
   "display_name": "Python 3 (ipykernel)",
   "language": "python",
   "name": "python3"
  },
  "language_info": {
   "codemirror_mode": {
    "name": "ipython",
    "version": 3
   },
   "file_extension": ".py",
   "mimetype": "text/x-python",
   "name": "python",
   "nbconvert_exporter": "python",
   "pygments_lexer": "ipython3",
   "version": "3.10.8"
  }
 },
 "nbformat": 4,
 "nbformat_minor": 5
}
