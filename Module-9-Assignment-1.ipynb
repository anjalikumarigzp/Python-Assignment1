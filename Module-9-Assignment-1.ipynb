{
 "cells": [
  {
   "cell_type": "code",
   "execution_count": 1,
   "id": "166130e8-fb2e-4dd3-b5f2-2e3c2675f7eb",
   "metadata": {},
   "outputs": [
    {
     "name": "stdout",
     "output_type": "stream",
     "text": [
      "\n",
      "Q3: Multiple Inheritance\n",
      "Engine Type: Diesel\n",
      "Body Type: SUV\n",
      "\n",
      "Q4: Getter and Setter\n",
      "Student Name: Anjali\n",
      "\n",
      "Q5: Method Overriding\n",
      "This is the Child class\n"
     ]
    }
   ],
   "source": [
    "# Assignment Solutions for OOPs in Python\n",
    "\n",
    "# Q1: Vehicle class with init method\n",
    "class Vehicle:\n",
    "    def __init__(self, name_of_vehicle, max_speed, average_of_vehicle):\n",
    "        self.name_of_vehicle = name_of_vehicle\n",
    "        self.max_speed = max_speed\n",
    "        self.average_of_vehicle = average_of_vehicle\n",
    "\n",
    "\n",
    "# Q2: Child class Car inheriting from Vehicle with seating_capacity method\n",
    "class Car(Vehicle):\n",
    "    def seating_capacity(self, capacity):\n",
    "        return f\"The seating capacity of {self.name_of_vehicle} is {capacity} passengers.\"\n",
    "\n",
    "\n",
    "# Q3: Multiple Inheritance demonstration\n",
    "class Engine:\n",
    "    def engine_type(self):\n",
    "        return \"Diesel\"\n",
    "\n",
    "class Body:\n",
    "    def body_type(self):\n",
    "        return \"SUV\"\n",
    "\n",
    "class Truck(Engine, Body):\n",
    "    pass\n",
    "\n",
    "# Example usage of multiple inheritance\n",
    "truck = Truck()\n",
    "print(\"\\nQ3: Multiple Inheritance\")\n",
    "print(\"Engine Type:\", truck.engine_type())\n",
    "print(\"Body Type:\", truck.body_type())\n",
    "\n",
    "\n",
    "# Q4: Getter and Setter example\n",
    "class Student:\n",
    "    def __init__(self):\n",
    "        self._name = \"\"\n",
    "\n",
    "    def get_name(self):\n",
    "        return self._name\n",
    "\n",
    "    def set_name(self, name):\n",
    "        self._name = name\n",
    "\n",
    "# Example usage of getter and setter\n",
    "student = Student()\n",
    "student.set_name(\"Anjali\")\n",
    "print(\"\\nQ4: Getter and Setter\")\n",
    "print(\"Student Name:\", student.get_name())\n",
    "\n",
    "\n",
    "# Q5: Method Overriding demonstration\n",
    "class Parent:\n",
    "    def show(self):\n",
    "        return \"This is the Parent class\"\n",
    "\n",
    "class Child(Parent):\n",
    "    def show(self):\n",
    "        return \"This is the Child class\"\n",
    "\n",
    "# Example usage of method overriding\n",
    "obj = Child()\n",
    "print(\"\\nQ5: Method Overriding\")\n",
    "print(obj.show())\n"
   ]
  },
  {
   "cell_type": "code",
   "execution_count": 2,
   "id": "a3aafe05-aecc-41bf-948a-67fa398f546d",
   "metadata": {},
   "outputs": [],
   "source": [
    "# Q1: Vehicle class with init method\n",
    "class Vehicle:\n",
    "    def __init__(self, name_of_vehicle, max_speed, average_of_vehicle):\n",
    "        self.name_of_vehicle = name_of_vehicle\n",
    "        self.max_speed = max_speed\n",
    "        self.average_of_vehicle = average_of_vehicle"
   ]
  },
  {
   "cell_type": "code",
   "execution_count": 8,
   "id": "78a56c64-6743-45b8-965c-1c9b4553f730",
   "metadata": {},
   "outputs": [],
   "source": [
    "# Q2: Child class Car inheriting from Vehicle with seating_capacity method\n",
    "class Car(Vehicle):\n",
    "    def seating_capacity(self, capacity):\n",
    "        return f\"The seating capacity of {self.name_of_vehicle} is {capacity} passengers.\"\n",
    "\n"
   ]
  },
  {
   "cell_type": "code",
   "execution_count": 4,
   "id": "000d6c55-3017-4790-a1c1-e442534f906d",
   "metadata": {},
   "outputs": [
    {
     "name": "stdout",
     "output_type": "stream",
     "text": [
      "\n",
      "Q3: Multiple Inheritance\n",
      "Engine Type: Diesel\n",
      "Body Type: SUV\n"
     ]
    }
   ],
   "source": [
    "# Q3: Multiple Inheritance demonstration\n",
    "class Engine:\n",
    "    def engine_type(self):\n",
    "        return \"Diesel\"\n",
    "\n",
    "class Body:\n",
    "    def body_type(self):\n",
    "        return \"SUV\"\n",
    "\n",
    "class Truck(Engine, Body):\n",
    "    pass\n",
    "\n",
    "# Example usage of multiple inheritance\n",
    "truck = Truck()\n",
    "print(\"\\nQ3: Multiple Inheritance\")\n",
    "print(\"Engine Type:\", truck.engine_type())\n",
    "print(\"Body Type:\", truck.body_type())\n"
   ]
  },
  {
   "cell_type": "code",
   "execution_count": null,
   "id": "95d1c575-e89a-449e-b163-47cd651d964b",
   "metadata": {},
   "outputs": [],
   "source": [
    "\n",
    "# Q5: Method Overriding demonstration\n",
    "class Parent:\n",
    "    def show(self):\n",
    "        return \"This is the Parent class\"\n",
    "\n",
    "class Child(Parent):\n",
    "    def show(self):\n",
    "        return \"This is the Child class\"\n",
    "\n",
    "# Example usage of method overriding\n",
    "obj = Child()\n",
    "print(\"\\nQ5: Method Overriding\")\n",
    "print(obj.show())\n"
   ]
  },
  {
   "cell_type": "code",
   "execution_count": null,
   "id": "0c0b5c53-0b2a-444b-b124-fb5b55e39f82",
   "metadata": {},
   "outputs": [],
   "source": []
  },
  {
   "cell_type": "code",
   "execution_count": null,
   "id": "3309df34-7560-40f8-bc84-e813a06254bc",
   "metadata": {},
   "outputs": [],
   "source": []
  },
  {
   "cell_type": "code",
   "execution_count": null,
   "id": "f9ba06cb-0355-44d1-987d-c2f653b6b0e0",
   "metadata": {},
   "outputs": [],
   "source": []
  },
  {
   "cell_type": "code",
   "execution_count": null,
   "id": "16152333-499c-4c52-8d4e-a1f083c480f5",
   "metadata": {},
   "outputs": [],
   "source": []
  },
  {
   "cell_type": "code",
   "execution_count": null,
   "id": "50b3b631-a25f-489e-893b-f3f8260d4749",
   "metadata": {},
   "outputs": [],
   "source": []
  },
  {
   "cell_type": "code",
   "execution_count": null,
   "id": "025f5f66-705e-4d26-a0af-d83324bfae13",
   "metadata": {},
   "outputs": [],
   "source": []
  },
  {
   "cell_type": "code",
   "execution_count": null,
   "id": "02b91b48-efa0-408e-9458-e6011086f744",
   "metadata": {},
   "outputs": [],
   "source": []
  },
  {
   "cell_type": "code",
   "execution_count": null,
   "id": "0a8ce42b-1210-4b35-b1f7-f7b3ade5f8d6",
   "metadata": {},
   "outputs": [],
   "source": []
  }
 ],
 "metadata": {
  "kernelspec": {
   "display_name": "Python 3 (ipykernel)",
   "language": "python",
   "name": "python3"
  },
  "language_info": {
   "codemirror_mode": {
    "name": "ipython",
    "version": 3
   },
   "file_extension": ".py",
   "mimetype": "text/x-python",
   "name": "python",
   "nbconvert_exporter": "python",
   "pygments_lexer": "ipython3",
   "version": "3.11.5"
  },
  "widgets": {
   "application/vnd.jupyter.widget-state+json": {
    "state": {},
    "version_major": 2,
    "version_minor": 0
   }
  }
 },
 "nbformat": 4,
 "nbformat_minor": 5
}
