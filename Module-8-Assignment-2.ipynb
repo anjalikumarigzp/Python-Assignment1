{
 "cells": [
  {
   "cell_type": "markdown",
   "id": "0979dcaa-938c-4616-951b-ed9ab7b3e535",
   "metadata": {},
   "source": [
    "## Assignment Solutions for Python - Lambda, Map, Filter, Reduce\n",
    "\n",
    "\n",
    "\n"
   ]
  },
  {
   "cell_type": "code",
   "execution_count": 10,
   "id": "341372a0-c235-4780-b2eb-9fd1b8fd00d8",
   "metadata": {},
   "outputs": [
    {
     "name": "stdout",
     "output_type": "stream",
     "text": [
      "Q1: Sorted List of Players: [('Virat Kohli', 24936), ('Jack Kallis', 25534), ('Ricky Ponting', 27483), ('Sachin Tendulkar', 34357)]\n"
     ]
    }
   ],
   "source": [
    "# Q1: Sort a list of tuples based on integer value using lambda\n",
    "players = [('Sachin Tendulkar', 34357), ('Ricky Ponting', 27483), ('Jack Kallis', 25534), ('Virat Kohli', 24936)]\n",
    "sorted_players = sorted(players, key=lambda x: x[1])\n",
    "print(\"Q1: Sorted List of Players:\", sorted_players)\n"
   ]
  },
  {
   "cell_type": "code",
   "execution_count": 11,
   "id": "3a4f1862-2273-40c4-b08a-402375d56681",
   "metadata": {},
   "outputs": [
    {
     "name": "stdout",
     "output_type": "stream",
     "text": [
      "\n",
      "Q2: Squares: [1, 4, 9, 16, 25, 36, 49, 64, 81, 100]\n"
     ]
    }
   ],
   "source": [
    "# Q2: Find squares of all numbers using lambda and map\n",
    "numbers = [1, 2, 3, 4, 5, 6, 7, 8, 9, 10]\n",
    "squares = list(map(lambda x: x**2, numbers))\n",
    "print(\"\\nQ2: Squares:\", squares)"
   ]
  },
  {
   "cell_type": "code",
   "execution_count": 12,
   "id": "ad350ccf-ddb4-4756-9262-603ead4b2014",
   "metadata": {},
   "outputs": [
    {
     "name": "stdout",
     "output_type": "stream",
     "text": [
      "\n",
      "Q3: Tuple of Strings: ('1', '2', '3', '4', '5', '6', '7', '8', '9', '10')\n"
     ]
    }
   ],
   "source": [
    "# Q3: Convert list of integers to tuple of strings using map and lambda\n",
    "num_list = [1, 2, 3, 4, 5, 6, 7, 8, 9, 10]\n",
    "string_tuple = tuple(map(lambda x: str(x), num_list))\n",
    "print(\"\\nQ3: Tuple of Strings:\", string_tuple)"
   ]
  },
  {
   "cell_type": "code",
   "execution_count": 13,
   "id": "ff18f9ac-6ba5-4694-88f7-1dbb8b617fe4",
   "metadata": {},
   "outputs": [
    {
     "name": "stdout",
     "output_type": "stream",
     "text": [
      "\n",
      "Q4: Product from 1 to 25: 15511210043330985984000000\n"
     ]
    }
   ],
   "source": [
    "# Q4: Compute product of numbers from 1 to 25 using reduce\n",
    "from functools import reduce\n",
    "product = reduce(lambda x, y: x * y, range(1, 26))\n",
    "print(\"\\nQ4: Product from 1 to 25:\", product)"
   ]
  },
  {
   "cell_type": "code",
   "execution_count": 14,
   "id": "99a26ba0-5348-400e-89f3-1c89cd2d85b7",
   "metadata": {},
   "outputs": [
    {
     "name": "stdout",
     "output_type": "stream",
     "text": [
      "\n",
      "Q5: Numbers divisible by 2 and 3: [6, 60, 90, 120]\n"
     ]
    }
   ],
   "source": [
    "# Q5: Filter numbers divisible by 2 and 3 using filter\n",
    "num_filter = [2, 3, 6, 9, 27, 60, 90, 120, 55, 46]\n",
    "filtered_nums = list(filter(lambda x: x % 2 == 0 and x % 3 == 0, num_filter))\n",
    "print(\"\\nQ5: Numbers divisible by 2 and 3:\", filtered_nums)"
   ]
  },
  {
   "cell_type": "code",
   "execution_count": 15,
   "id": "5bc01e53-7b7d-4866-a6d9-0e2be8778289",
   "metadata": {},
   "outputs": [
    {
     "name": "stdout",
     "output_type": "stream",
     "text": [
      "\n",
      "Q6: Palindromes: ['php', 'aba', 'radar', 'level']\n"
     ]
    }
   ],
   "source": [
    "# Q6: Find palindromes using lambda and filter\n",
    "words = ['python', 'php', 'aba', 'radar', 'level']\n",
    "palindromes = list(filter(lambda word: word == word[::-1], words))\n",
    "print(\"\\nQ6: Palindromes:\", palindromes)"
   ]
  },
  {
   "cell_type": "code",
   "execution_count": null,
   "id": "390741c5-a12f-4367-a19b-a36137c3d95c",
   "metadata": {},
   "outputs": [],
   "source": []
  },
  {
   "cell_type": "code",
   "execution_count": null,
   "id": "93092957-c8ed-4f27-84ab-eb875f5b5082",
   "metadata": {},
   "outputs": [],
   "source": []
  },
  {
   "cell_type": "code",
   "execution_count": null,
   "id": "7cfcece0-bd02-45df-a6c5-62c0cb1080da",
   "metadata": {},
   "outputs": [],
   "source": []
  },
  {
   "cell_type": "code",
   "execution_count": null,
   "id": "e3ae0f54-0601-41b2-a621-23152ce1bc66",
   "metadata": {},
   "outputs": [],
   "source": []
  }
 ],
 "metadata": {
  "kernelspec": {
   "display_name": "Python 3 (ipykernel)",
   "language": "python",
   "name": "python3"
  },
  "language_info": {
   "codemirror_mode": {
    "name": "ipython",
    "version": 3
   },
   "file_extension": ".py",
   "mimetype": "text/x-python",
   "name": "python",
   "nbconvert_exporter": "python",
   "pygments_lexer": "ipython3",
   "version": "3.11.5"
  },
  "widgets": {
   "application/vnd.jupyter.widget-state+json": {
    "state": {},
    "version_major": 2,
    "version_minor": 0
   }
  }
 },
 "nbformat": 4,
 "nbformat_minor": 5
}
