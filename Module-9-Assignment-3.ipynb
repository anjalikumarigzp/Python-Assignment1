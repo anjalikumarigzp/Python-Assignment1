{
 "cells": [
  {
   "cell_type": "code",
   "execution_count": null,
   "id": "4b434b5f-6a49-446a-a789-e7922520a482",
   "metadata": {},
   "outputs": [],
   "source": [
    "# Q1. What is Abstraction in OOPs? Explain with an example.\n",
    "\n",
    "# Abstraction means hiding the internal implementation details and showing only the essential features.\n",
    "# It focuses on what an object does instead of how it does it.\n",
    "\n",
    "from abc import ABC, abstractmethod\n",
    "\n",
    "class Vehicle(ABC):\n",
    "    @abstractmethod\n",
    "    def start_engine(self):\n",
    "        pass\n",
    "\n",
    "class Car(Vehicle):\n",
    "    def start_engine(self):\n",
    "        print(\"Car engine started.\")\n",
    "\n",
    "c = Car()\n",
    "c.start_engine()\n"
   ]
  },
  {
   "cell_type": "code",
   "execution_count": null,
   "id": "42099b0c-cfbb-47c3-a2f9-da7ce1c321b0",
   "metadata": {},
   "outputs": [],
   "source": [
    "# Q2. Differentiate between Abstraction and Encapsulation. Explain with an example.\n",
    "\n",
    "# Abstraction: Hides complexity by showing only relevant information.\n",
    "# Encapsulation: Bundles data and methods into a single unit (class), and restricts access to some of the object's components.\n",
    "\n",
    "# Abstraction Example:\n",
    "from abc import ABC, abstractmethod\n",
    "\n",
    "class ATM(ABC):\n",
    "    @abstractmethod\n",
    "    def transaction(self):\n",
    "        pass\n",
    "\n",
    "class Withdrawal(ATM):\n",
    "    def transaction(self):\n",
    "        print(\"Withdrawal successful!\")\n",
    "\n",
    "w = Withdrawal()\n",
    "w.transaction()\n",
    "\n",
    "# Encapsulation Example:\n",
    "class BankAccount:\n",
    "    def __init__(self, balance):\n",
    "        self.__balance = balance  # private variable\n",
    "\n",
    "    def deposit(self, amount):\n",
    "        self.__balance += amount\n",
    "\n",
    "    def get_balance(self):\n",
    "        return self.__balance\n",
    "\n",
    "acc = BankAccount(1000)\n",
    "acc.deposit(500)\n",
    "print(acc.get_balance())\n"
   ]
  },
  {
   "cell_type": "code",
   "execution_count": null,
   "id": "8924499a-2553-4b10-8849-812ba9891007",
   "metadata": {},
   "outputs": [],
   "source": [
    "# Q3. What is abc module in Python? Why is it used?\n",
    "\n",
    "# The abc module in Python stands for Abstract Base Classes.\n",
    "# It is used to define abstract classes and enforce methods that must be implemented by child classes.\n",
    "\n",
    "from abc import ABC, abstractmethod\n",
    "\n",
    "class Shape(ABC):\n",
    "    @abstractmethod\n",
    "    def area(self):\n",
    "        pass\n",
    "\n",
    "class Circle(Shape):\n",
    "    def area(self):\n",
    "        print(\"Area = πr²\")\n",
    "\n",
    "c = Circle()\n",
    "c.area()\n"
   ]
  },
  {
   "cell_type": "code",
   "execution_count": null,
   "id": "d40a0768-952d-4f7f-9136-d3fd3cf8cc8b",
   "metadata": {},
   "outputs": [],
   "source": [
    "# Q4. How can we achieve data abstraction?\n",
    "\n",
    "# Data abstraction in Python can be achieved using:\n",
    "# 1. Abstract Classes and Methods (via abc module)\n",
    "# 2. Access specifiers (like private variables)\n",
    "\n",
    "# Example using abstract class:\n",
    "from abc import ABC, abstractmethod\n",
    "\n",
    "class Employee(ABC):\n",
    "    @abstractmethod\n",
    "    def work(self):\n",
    "        pass\n",
    "\n",
    "class Developer(Employee):\n",
    "    def work(self):\n",
    "        print(\"Writing code...\")\n",
    "\n",
    "dev = Developer()\n",
    "dev.work()\n"
   ]
  },
  {
   "cell_type": "code",
   "execution_count": null,
   "id": "8f813786-e0b6-433c-a0cf-41589ae0a8e2",
   "metadata": {},
   "outputs": [],
   "source": [
    "# Q5. Can we create an instance of an abstract class? Explain your answer.\n",
    "\n",
    "# No, we cannot create an instance of an abstract class.\n",
    "# Abstract classes are meant to be inherited by subclasses which implement the abstract methods.\n",
    "\n",
    "from abc import ABC, abstractmethod\n",
    "\n",
    "class Animal(ABC):\n",
    "    @abstractmethod\n",
    "    def make_sound(self):\n",
    "        pass\n",
    "\n",
    "# a = Animal()  # This will raise an error: TypeError: Can't instantiate abstract class Animal\n",
    "\n",
    "class Dog(Animal):\n",
    "    def make_sound(self):\n",
    "        print(\"Bark\")\n",
    "\n",
    "d = Dog()\n",
    "d.make_sound()\n"
   ]
  }
 ],
 "metadata": {
  "kernelspec": {
   "display_name": "Python 3 (ipykernel)",
   "language": "python",
   "name": "python3"
  },
  "language_info": {
   "codemirror_mode": {
    "name": "ipython",
    "version": 3
   },
   "file_extension": ".py",
   "mimetype": "text/x-python",
   "name": "python",
   "nbconvert_exporter": "python",
   "pygments_lexer": "ipython3",
   "version": "3.11.5"
  },
  "widgets": {
   "application/vnd.jupyter.widget-state+json": {
    "state": {},
    "version_major": 2,
    "version_minor": 0
   }
  }
 },
 "nbformat": 4,
 "nbformat_minor": 5
}
