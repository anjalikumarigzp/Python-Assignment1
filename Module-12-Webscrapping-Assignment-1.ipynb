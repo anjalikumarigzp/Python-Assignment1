{
 "cells": [
  {
   "cell_type": "markdown",
   "id": "16093e93-2725-43bc-a653-54409913da31",
   "metadata": {},
   "source": [
    "## Q1. What is Web Scraping? Why is it Used? Give Three Use Cases\n",
    "\n",
    "**Web Scraping** is the automated process of extracting data from websites.\n",
    "\n",
    "### ✅ Why is it Used?\n",
    "- To collect data that is not readily available via APIs.\n",
    "- To analyze market trends, competitors, or public opinion.\n",
    "- To automate repetitive data collection tasks.\n",
    "\n",
    "### ✅ Use Cases:\n",
    "1. **Price Comparison Websites** – Scraping product prices from e-commerce platforms.\n",
    "2. **News Aggregators** – Collecting news articles from various news sources.\n",
    "3. **Real Estate** – Gathering property listings and price trends from property websites."
   ]
  },
  {
   "cell_type": "markdown",
   "id": "943d9476-26f6-4bc5-8e74-505cde4ae867",
   "metadata": {},
   "source": [
    "## Q2. Methods Used for Web Scraping\n",
    "\n",
    "### ✅ Common Methods for Web Scraping:\n",
    "1. **Using HTTP Libraries** (e.g., `requests`, `http.client`)\n",
    "2. **Using HTML Parsers** (e.g., `BeautifulSoup`, `lxml`)\n",
    "3. **Browser Automation** (e.g., `Selenium`, `Playwright`)\n",
    "4. **Headless Browsers** (e.g., `Puppeteer`)"
   ]
  },
  {
   "cell_type": "markdown",
   "id": "3642a353-7f70-4b6e-b060-afa6dcbc8f15",
   "metadata": {},
   "source": [
    "## Q3. What is Beautiful Soup? Why is it Used?\n",
    "\n",
    "**BeautifulSoup** is a Python library used for parsing HTML and XML documents.\n",
    "\n",
    "### ✅ Why is it Used?\n",
    "- To navigate, search, and modify the parse tree easily.\n",
    "- It provides Pythonic ways to access HTML elements (e.g., `find()`, `find_all()`).\n",
    "\n",
    "### ✅ Example:\n"
   ]
  },
  {
   "cell_type": "code",
   "execution_count": 2,
   "id": "4401cf5b-c891-41a1-8fd2-4ef9870cfedd",
   "metadata": {},
   "outputs": [
    {
     "name": "stdout",
     "output_type": "stream",
     "text": [
      "Hello\n"
     ]
    }
   ],
   "source": [
    "\n",
    "from bs4 import BeautifulSoup\n",
    "\n",
    "html = \"<html><body><h1>Hello</h1></body></html>\"\n",
    "soup = BeautifulSoup(html, 'html.parser')\n",
    "print(soup.h1.text)  # Output: Hello"
   ]
  },
  {
   "cell_type": "markdown",
   "id": "3fe30a2d-a763-4a97-9d89-abb1577f8fcb",
   "metadata": {},
   "source": [
    "## Q4. Why is Flask Used in This Web Scraping Project?\n",
    "\n",
    "**Flask** is used as a lightweight web framework to:\n",
    "- Build a simple interface to trigger web scraping.\n",
    "- Display the scraped data on a web page.\n",
    "- Provide endpoints (APIs) that users or systems can query.\n",
    "\n",
    "Flask acts as a bridge between the backend scraping logic and the frontend display."
   ]
  },
  {
   "cell_type": "markdown",
   "id": "9c0180fd-16a9-493c-a554-0d22d19b4e28",
   "metadata": {},
   "source": [
    "## Q5. AWS Services Used in This Project and Their Purpose\n",
    "\n",
    "Here are common AWS services used in web scraping projects:\n",
    "\n",
    "1. **EC2 (Elastic Compute Cloud)**:\n",
    "   - Used to host the Python web scraping script and Flask app.\n",
    "   - Provides scalable compute power in the cloud.\n",
    "\n",
    "2. **S3 (Simple Storage Service)**:\n",
    "   - Stores the scraped data as files (CSV, JSON, etc.).\n",
    "   - Used for backup or further processing.\n",
    "\n",
    "3. **Lambda (Optional)**:\n",
    "   - Used for serverless execution of scraping scripts on a schedule.\n",
    "   - Reduces the need to keep servers running 24/7.\n",
    "\n",
    "4. **RDS (Relational Database Service)** or **DynamoDB**:\n",
    "   - Used to store structured scraped data for querying and analytics."
   ]
  },
  {
   "cell_type": "code",
   "execution_count": null,
   "id": "9c3c6354-956d-41e7-a744-d5968dd8f42b",
   "metadata": {},
   "outputs": [],
   "source": []
  }
 ],
 "metadata": {
  "kernelspec": {
   "display_name": "Python 3 (ipykernel)",
   "language": "python",
   "name": "python3"
  },
  "language_info": {
   "codemirror_mode": {
    "name": "ipython",
    "version": 3
   },
   "file_extension": ".py",
   "mimetype": "text/x-python",
   "name": "python",
   "nbconvert_exporter": "python",
   "pygments_lexer": "ipython3",
   "version": "3.11.5"
  },
  "widgets": {
   "application/vnd.jupyter.widget-state+json": {
    "state": {},
    "version_major": 2,
    "version_minor": 0
   }
  }
 },
 "nbformat": 4,
 "nbformat_minor": 5
}
