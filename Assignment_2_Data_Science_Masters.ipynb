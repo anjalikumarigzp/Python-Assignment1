{
 "cells": [
  {
   "cell_type": "markdown",
   "id": "cd81038f",
   "metadata": {},
   "source": [
    "# Assignment-2: Data Science Masters 2.0\n",
    "\n",
    "**Instructions:**\n",
    "- Answer the following questions.\n",
    "- Upload the completed Jupyter notebook to GitHub and share the repository link through your dashboard.\n",
    "- Ensure the repository is public."
   ]
  },
  {
   "cell_type": "markdown",
   "id": "0efe156f",
   "metadata": {},
   "source": [
    "### Q1. How do you comment code in Python? What are the different types of comments?"
   ]
  },
  {
   "cell_type": "code",
   "execution_count": null,
   "id": "051a80b9",
   "metadata": {},
   "outputs": [],
   "source": [
    "# This is a single-line comment in Python\n",
    "'''\n",
    "This is a multi-line comment using triple quotes.\n",
    "It can span multiple lines.\n",
    "'''\n",
    "\"\"\"\n",
    "This is also a multi-line comment using double quotes.\n",
    "Useful for documentation strings.\n",
    "\"\"\""
   ]
  },
  {
   "cell_type": "markdown",
   "id": "b2fed91d",
   "metadata": {},
   "source": [
    "### Q2. What are variables in Python? How do you declare and assign values to variables?"
   ]
  },
  {
   "cell_type": "code",
   "execution_count": null,
   "id": "ca7f6444",
   "metadata": {},
   "outputs": [],
   "source": [
    "x = 10  # integer variable\n",
    "y = 3.14  # float variable\n",
    "name = \"Anjali\"  # string variable\n",
    "is_student = True  # boolean variable\n",
    "print(x, y, name, is_student)"
   ]
  },
  {
   "cell_type": "markdown",
   "id": "d2cdaf73",
   "metadata": {},
   "source": [
    "### Q3. How do you convert one data type to another in Python?"
   ]
  },
  {
   "cell_type": "code",
   "execution_count": null,
   "id": "d6b5f182",
   "metadata": {},
   "outputs": [],
   "source": [
    "x = 5\n",
    "float_x = float(x)  # int to float\n",
    "str_x = str(x)  # int to string\n",
    "int_x = int(\"10\")  # string to int\n",
    "print(float_x, str_x, int_x)"
   ]
  },
  {
   "cell_type": "markdown",
   "id": "b2a620de",
   "metadata": {},
   "source": [
    "### Q4. How do you write and execute a Python script from the command line?"
   ]
  },
  {
   "cell_type": "code",
   "execution_count": null,
   "id": "84ac3dd9",
   "metadata": {},
   "outputs": [],
   "source": [
    "# Save your script in a file named script.py\n",
    "# Then run the following command in terminal:\n",
    "# python script.py"
   ]
  },
  {
   "cell_type": "markdown",
   "id": "31edb836",
   "metadata": {},
   "source": [
    "### Q5. Given a list my_list = [1, 2, 3, 4, 5], write the code to slice the list and obtain the sub-list [2, 3]."
   ]
  },
  {
   "cell_type": "code",
   "execution_count": null,
   "id": "0c6cdfc0",
   "metadata": {},
   "outputs": [],
   "source": [
    "my_list = [1, 2, 3, 4, 5]\n",
    "sub_list = my_list[1:3]\n",
    "print(sub_list)"
   ]
  },
  {
   "cell_type": "markdown",
   "id": "4125c37c",
   "metadata": {},
   "source": [
    "### Q6. What is a complex number in mathematics, and how is it represented in Python?"
   ]
  },
  {
   "cell_type": "code",
   "execution_count": null,
   "id": "199427f7",
   "metadata": {},
   "outputs": [],
   "source": [
    "complex_num = 2 + 3j\n",
    "print(\"Real part:\", complex_num.real)\n",
    "print(\"Imaginary part:\", complex_num.imag)"
   ]
  },
  {
   "cell_type": "markdown",
   "id": "d030d240",
   "metadata": {},
   "source": [
    "### Q7. What is the correct way to declare a variable named age and assign the value 25 to it?"
   ]
  },
  {
   "cell_type": "code",
   "execution_count": null,
   "id": "2d5b7085",
   "metadata": {},
   "outputs": [],
   "source": [
    "age = 25\n",
    "print(age)"
   ]
  },
  {
   "cell_type": "markdown",
   "id": "b189ec06",
   "metadata": {},
   "source": [
    "### Q8. Declare a variable named price and assign the value 9.99 to it. What data type does this variable belong to?"
   ]
  },
  {
   "cell_type": "code",
   "execution_count": null,
   "id": "c0201a4e",
   "metadata": {},
   "outputs": [],
   "source": [
    "price = 9.99\n",
    "print(price)\n",
    "print(type(price))  # Output: <class 'float'>"
   ]
  },
  {
   "cell_type": "markdown",
   "id": "299b937b",
   "metadata": {},
   "source": [
    "### Q9. Create a variable named name and assign your full name to it as a string. How would you print the value of this variable?"
   ]
  },
  {
   "cell_type": "code",
   "execution_count": null,
   "id": "6947d63d",
   "metadata": {},
   "outputs": [],
   "source": [
    "name = \"Anjali Kumari\"\n",
    "print(name)"
   ]
  },
  {
   "cell_type": "markdown",
   "id": "21c63aba",
   "metadata": {},
   "source": [
    "### Q10. Given the string \"Hello, World!\", extract the substring \"World\"."
   ]
  },
  {
   "cell_type": "code",
   "execution_count": null,
   "id": "73ffd15b",
   "metadata": {},
   "outputs": [],
   "source": [
    "text = \"Hello, World!\"\n",
    "substring = text[7:12]\n",
    "print(substring)"
   ]
  },
  {
   "cell_type": "markdown",
   "id": "b0c69e18",
   "metadata": {},
   "source": [
    "### Q11. Create a variable named \"is_student\" and assign it a boolean value indicating whether you are currently a student or not."
   ]
  },
  {
   "cell_type": "code",
   "execution_count": null,
   "id": "8e2f488b",
   "metadata": {},
   "outputs": [],
   "source": [
    "is_student = True  # Assuming you are a student\n",
    "print(is_student)"
   ]
  }
 ],
 "metadata": {},
 "nbformat": 4,
 "nbformat_minor": 5
}
