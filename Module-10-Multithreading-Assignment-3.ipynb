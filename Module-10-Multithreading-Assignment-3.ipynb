{
 "cells": [
  {
   "cell_type": "code",
   "execution_count": 2,
   "id": "9a94dccf-58b2-480e-a601-be1117b97f5c",
   "metadata": {},
   "outputs": [
    {
     "name": "stdout",
     "output_type": "stream",
     "text": [
      "Squares:Cubes:\n",
      "1^3 = 1\n",
      "2^3 = 8\n",
      "3^3 = 27\n",
      "4^3 = 64\n",
      "5^3 = 125\n",
      "\n",
      "1^2 = 1\n",
      "2^2 = 4\n",
      "3^2 = 9\n",
      "4^2 = 16\n",
      "5^2 = 25\n",
      "Main thread finished.\n"
     ]
    },
    {
     "data": {
      "text/plain": [
       "'\\nDeadlocks:\\n-   A deadlock is a situation in which two or more threads are blocked indefinitely, waiting for each other to release resources that they need.\\n-   It occurs when the following four conditions are met simultaneously:\\n    1.  Mutual Exclusion: Threads have exclusive access to the resources they require.\\n    2.  Hold and Wait: Threads hold resources while waiting for additional resources.\\n    3.  No Preemption: Resources cannot be forcibly taken away from a thread; they can only be released voluntarily.\\n    4.  Circular Wait: A circular chain of threads exists, where each thread is waiting for a resource held by the next thread in the chain.\\n\\nRace Conditions:\\n-   A race condition is a situation in which the behavior of a program depends on the relative timing or interleaving of multiple threads.\\n-   It occurs when two or more threads access shared data concurrently, and the final outcome of the execution depends on the particular order in which the threads access the data.\\n-   Race conditions can lead to unpredictable and erroneous results, as the order of execution can vary each time the program is run.\\n'"
      ]
     },
     "execution_count": 2,
     "metadata": {},
     "output_type": "execute_result"
    }
   ],
   "source": [
    "# Q1. What is multithreading in python? Why is it used? Name the module used to handle threads in python.\n",
    "\n",
    "\"\"\"\n",
    "Multithreading in Python:\n",
    "-   Multithreading is a technique that allows a program to execute multiple threads concurrently within a single process.\n",
    "-   A thread is a lightweight unit of execution that shares the same memory space as other threads within the same process.\n",
    "\n",
    "Why it is used:\n",
    "-   Improved Performance: Multithreading can improve the performance of applications by utilizing multiple CPU cores and reducing the time spent waiting for I/O operations to complete.\n",
    "-   Increased Responsiveness: It can make applications more responsive by allowing them to continue executing other tasks while waiting for long-running operations.\n",
    "-   Better Resource Utilization: Multithreading can help in better utilization of system resources.\n",
    "\n",
    "Module used:\n",
    "-   The 'threading' module in Python is used to handle threads.\n",
    "\"\"\"\n",
    "\n",
    "# Q2. Why threading module used? Write the use of the following functions:\n",
    "#    1. activeCount()\n",
    "#    2. currentThread()\n",
    "#    3. enumerate()\n",
    "\n",
    "\"\"\"\n",
    "Why threading module is used:\n",
    "The 'threading' module provides a high-level interface for creating and managing threads in Python. It simplifies the process of working with threads, allowing developers to easily create concurrent applications.\n",
    "\n",
    "Functions of the threading module:\n",
    "1.  activeCount():\n",
    "    -   Returns the number of Thread objects currently alive.\n",
    "    -   Syntax: threading.activeCount()\n",
    "\n",
    "2.  currentThread():\n",
    "    -   Returns the current Thread object, corresponding to the caller's thread of execution.\n",
    "    -   Syntax: threading.currentThread() or threading.current_thread()\n",
    "\n",
    "3.  enumerate():\n",
    "    -   Returns a list of all Thread objects currently alive.\n",
    "    -   Syntax: threading.enumerate()\n",
    "\"\"\"\n",
    "\n",
    "# Q3. Explain the following functions:\n",
    "#    1. run()\n",
    "#    2. start()\n",
    "#    3. join()\n",
    "#    4. isAlive()\n",
    "\n",
    "\"\"\"\n",
    "Explanation of threading functions:\n",
    "1.  run():\n",
    "    -   The 'run()' method is the entry point for a thread's activity.\n",
    "    -   It defines the code that the thread will execute when it is started.\n",
    "    -   This method should be overridden in a subclass of Thread.\n",
    "\n",
    "2.  start():\n",
    "    -   The 'start()' method starts a new thread of execution.\n",
    "    -   It calls the 'run()' method of the thread, which begins the thread's activity.\n",
    "\n",
    "3.  join():\n",
    "    -   The 'join()' method is used to wait for a thread to complete its execution.\n",
    "    -   When one thread calls 'join()' on another thread, the calling thread blocks until the other thread finishes.\n",
    "\n",
    "4.  isAlive():\n",
    "    -   The 'isAlive()' method checks whether a thread is currently executing.\n",
    "    -   It returns True if the thread is alive (i.e., it has been started and has not yet finished), and False otherwise.\n",
    "\"\"\"\n",
    "\n",
    "# Q4. Write a python program to create two threads. Thread one must print the list of squares and thread two must print the list of cubes.\n",
    "\n",
    "import threading\n",
    "\n",
    "def print_squares(numbers):\n",
    "    \"\"\"Prints the squares of the numbers in the given list.\"\"\"\n",
    "    print(\"Squares:\")\n",
    "    for n in numbers:\n",
    "        print(f\"{n}^2 = {n**2}\")\n",
    "\n",
    "def print_cubes(numbers):\n",
    "    \"\"\"Prints the cubes of the numbers in the given list.\"\"\"\n",
    "    print(\"Cubes:\")\n",
    "    for n in numbers:\n",
    "        print(f\"{n}^3 = {n**3}\")\n",
    "\n",
    "if __name__ == \"__main__\":\n",
    "    numbers = [1, 2, 3, 4, 5]\n",
    "\n",
    "    # Create two threads\n",
    "    thread1 = threading.Thread(target=print_squares, args=(numbers,))\n",
    "    thread2 = threading.Thread(target=print_cubes, args=(numbers,))\n",
    "\n",
    "    # Start the threads\n",
    "    thread1.start()\n",
    "    thread2.start()\n",
    "\n",
    "    # Wait for both threads to complete\n",
    "    thread1.join()\n",
    "    thread2.join()\n",
    "\n",
    "    print(\"Main thread finished.\")\n",
    "\n",
    "# Q5. State advantages and disadvantages of multithreading.\n",
    "\n",
    "\"\"\"\n",
    "Advantages of Multithreading:\n",
    "-   Increased Performance: By utilizing multiple CPU cores, multithreading can speed up the execution of tasks.\n",
    "-   Improved Responsiveness: Applications can remain responsive to user input even while performing long-running operations.\n",
    "-   Better Resource Utilization: Multithreading allows for more efficient use of system resources.\n",
    "-   Concurrency: Enables concurrent execution of tasks.\n",
    "\n",
    "Disadvantages of Multithreading:\n",
    "-   Complexity: Multithreaded programming can be more complex than single-threaded programming, leading to potential issues like race conditions and deadlocks.\n",
    "-   Synchronization Overhead: Coordinating between threads requires synchronization mechanisms (like locks), which can introduce overhead.\n",
    "-   Debugging Difficulty: Debugging multithreaded applications can be more challenging due to the non-deterministic nature of thread execution.\n",
    "-   Increased Memory Usage: Each thread requires its own stack space, which can increase memory consumption.\n",
    "-   Global Interpreter Lock (GIL) in Python: In CPython, the GIL can limit the actual concurrency of CPU-bound threads.\n",
    "\"\"\"\n",
    "\n",
    "# Q6. Explain deadlocks and race conditions.\n",
    "\n",
    "\"\"\"\n",
    "Deadlocks:\n",
    "-   A deadlock is a situation in which two or more threads are blocked indefinitely, waiting for each other to release resources that they need.\n",
    "-   It occurs when the following four conditions are met simultaneously:\n",
    "    1.  Mutual Exclusion: Threads have exclusive access to the resources they require.\n",
    "    2.  Hold and Wait: Threads hold resources while waiting for additional resources.\n",
    "    3.  No Preemption: Resources cannot be forcibly taken away from a thread; they can only be released voluntarily.\n",
    "    4.  Circular Wait: A circular chain of threads exists, where each thread is waiting for a resource held by the next thread in the chain.\n",
    "\n",
    "Race Conditions:\n",
    "-   A race condition is a situation in which the behavior of a program depends on the relative timing or interleaving of multiple threads.\n",
    "-   It occurs when two or more threads access shared data concurrently, and the final outcome of the execution depends on the particular order in which the threads access the data.\n",
    "-   Race conditions can lead to unpredictable and erroneous results, as the order of execution can vary each time the program is run.\n",
    "\"\"\"\n"
   ]
  },
  {
   "cell_type": "code",
   "execution_count": 3,
   "id": "1267db00-42cb-463b-b21a-de2f14502178",
   "metadata": {},
   "outputs": [
    {
     "data": {
      "text/plain": [
       "\"\\nWhy threading module is used:\\nThe 'threading' module provides a high-level interface for creating and managing threads in Python. It simplifies the process of working with threads, allowing developers to easily create concurrent applications.\\n\\nFunctions of the threading module:\\n1.  activeCount():\\n    -   Returns the number of Thread objects currently alive.\\n    -   Syntax: threading.activeCount()\\n\\n2.  currentThread():\\n    -   Returns the current Thread object, corresponding to the caller's thread of execution.\\n    -   Syntax: threading.currentThread() or threading.current_thread()\\n\\n3.  enumerate():\\n    -   Returns a list of all Thread objects currently alive.\\n    -   Syntax: threading.enumerate()\\n\""
      ]
     },
     "execution_count": 3,
     "metadata": {},
     "output_type": "execute_result"
    }
   ],
   "source": [
    "# Q2. Why threading module used? Write the use of the following functions:\n",
    "#    1. activeCount()\n",
    "#    2. currentThread()\n",
    "#    3. enumerate()\n",
    "\n",
    "\"\"\"\n",
    "Why threading module is used:\n",
    "The 'threading' module provides a high-level interface for creating and managing threads in Python. It simplifies the process of working with threads, allowing developers to easily create concurrent applications.\n",
    "\n",
    "Functions of the threading module:\n",
    "1.  activeCount():\n",
    "    -   Returns the number of Thread objects currently alive.\n",
    "    -   Syntax: threading.activeCount()\n",
    "\n",
    "2.  currentThread():\n",
    "    -   Returns the current Thread object, corresponding to the caller's thread of execution.\n",
    "    -   Syntax: threading.currentThread() or threading.current_thread()\n",
    "\n",
    "3.  enumerate():\n",
    "    -   Returns a list of all Thread objects currently alive.\n",
    "    -   Syntax: threading.enumerate()\n",
    "\"\"\""
   ]
  },
  {
   "cell_type": "code",
   "execution_count": 4,
   "id": "8730ffc3-70a2-4992-ac26-0db81813d809",
   "metadata": {},
   "outputs": [
    {
     "data": {
      "text/plain": [
       "\"\\nExplanation of threading functions:\\n1.  run():\\n    -   The 'run()' method is the entry point for a thread's activity.\\n    -   It defines the code that the thread will execute when it is started.\\n    -   This method should be overridden in a subclass of Thread.\\n\\n2.  start():\\n    -   The 'start()' method starts a new thread of execution.\\n    -   It calls the 'run()' method of the thread, which begins the thread's activity.\\n\\n3.  join():\\n    -   The 'join()' method is used to wait for a thread to complete its execution.\\n    -   When one thread calls 'join()' on another thread, the calling thread blocks until the other thread finishes.\\n\\n4.  isAlive():\\n    -   The 'isAlive()' method checks whether a thread is currently executing.\\n    -   It returns True if the thread is alive (i.e., it has been started and has not yet finished), and False otherwise.\\n\""
      ]
     },
     "execution_count": 4,
     "metadata": {},
     "output_type": "execute_result"
    }
   ],
   "source": [
    "# Q3. Explain the following functions:\n",
    "#    1. run()\n",
    "#    2. start()\n",
    "#    3. join()\n",
    "#    4. isAlive()\n",
    "\n",
    "\"\"\"\n",
    "Explanation of threading functions:\n",
    "1.  run():\n",
    "    -   The 'run()' method is the entry point for a thread's activity.\n",
    "    -   It defines the code that the thread will execute when it is started.\n",
    "    -   This method should be overridden in a subclass of Thread.\n",
    "\n",
    "2.  start():\n",
    "    -   The 'start()' method starts a new thread of execution.\n",
    "    -   It calls the 'run()' method of the thread, which begins the thread's activity.\n",
    "\n",
    "3.  join():\n",
    "    -   The 'join()' method is used to wait for a thread to complete its execution.\n",
    "    -   When one thread calls 'join()' on another thread, the calling thread blocks until the other thread finishes.\n",
    "\n",
    "4.  isAlive():\n",
    "    -   The 'isAlive()' method checks whether a thread is currently executing.\n",
    "    -   It returns True if the thread is alive (i.e., it has been started and has not yet finished), and False otherwise.\n",
    "\"\"\""
   ]
  },
  {
   "cell_type": "code",
   "execution_count": 5,
   "id": "fe4bfec6-039b-44f3-9bb2-1beabdefedce",
   "metadata": {},
   "outputs": [
    {
     "name": "stdout",
     "output_type": "stream",
     "text": [
      "Squares:\n",
      "1^2 = 1\n",
      "2^2 = 4\n",
      "3^2 = 9\n",
      "4^2 = 16\n",
      "5^2 = 25\n",
      "Cubes:\n",
      "1^3 = 1\n",
      "2^3 = 8\n",
      "3^3 = 27\n",
      "4^3 = 64\n",
      "5^3 = 125\n",
      "Main thread finished.\n"
     ]
    }
   ],
   "source": [
    "# Q4. Write a python program to create two threads. Thread one must print the list of squares and thread two must print the list of cubes.\n",
    "\n",
    "import threading\n",
    "\n",
    "def print_squares(numbers):\n",
    "    \"\"\"Prints the squares of the numbers in the given list.\"\"\"\n",
    "    print(\"Squares:\")\n",
    "    for n in numbers:\n",
    "        print(f\"{n}^2 = {n**2}\")\n",
    "\n",
    "def print_cubes(numbers):\n",
    "    \"\"\"Prints the cubes of the numbers in the given list.\"\"\"\n",
    "    print(\"Cubes:\")\n",
    "    for n in numbers:\n",
    "        print(f\"{n}^3 = {n**3}\")\n",
    "\n",
    "if __name__ == \"__main__\":\n",
    "    numbers = [1, 2, 3, 4, 5]\n",
    "\n",
    "    # Create two threads\n",
    "    thread1 = threading.Thread(target=print_squares, args=(numbers,))\n",
    "    thread2 = threading.Thread(target=print_cubes, args=(numbers,))\n",
    "\n",
    "    # Start the threads\n",
    "    thread1.start()\n",
    "    thread2.start()\n",
    "\n",
    "    # Wait for both threads to complete\n",
    "    thread1.join()\n",
    "    thread2.join()\n",
    "\n",
    "    print(\"Main thread finished.\")"
   ]
  },
  {
   "cell_type": "code",
   "execution_count": 6,
   "id": "f4ca5c03-ab85-4c81-a603-61b9767f1dc7",
   "metadata": {},
   "outputs": [
    {
     "data": {
      "text/plain": [
       "'\\nAdvantages of Multithreading:\\n-   Increased Performance: By utilizing multiple CPU cores, multithreading can speed up the execution of tasks.\\n-   Improved Responsiveness: Applications can remain responsive to user input even while performing long-running operations.\\n-   Better Resource Utilization: Multithreading allows for more efficient use of system resources.\\n-   Concurrency: Enables concurrent execution of tasks.\\n\\nDisadvantages of Multithreading:\\n-   Complexity: Multithreaded programming can be more complex than single-threaded programming, leading to potential issues like race conditions and deadlocks.\\n-   Synchronization Overhead: Coordinating between threads requires synchronization mechanisms (like locks), which can introduce overhead.\\n-   Debugging Difficulty: Debugging multithreaded applications can be more challenging due to the non-deterministic nature of thread execution.\\n-   Increased Memory Usage: Each thread requires its own stack space, which can increase memory consumption.\\n-   Global Interpreter Lock (GIL) in Python: In CPython, the GIL can limit the actual concurrency of CPU-bound threads.\\n'"
      ]
     },
     "execution_count": 6,
     "metadata": {},
     "output_type": "execute_result"
    }
   ],
   "source": [
    "# Q5. State advantages and disadvantages of multithreading.\n",
    "\n",
    "\"\"\"\n",
    "Advantages of Multithreading:\n",
    "-   Increased Performance: By utilizing multiple CPU cores, multithreading can speed up the execution of tasks.\n",
    "-   Improved Responsiveness: Applications can remain responsive to user input even while performing long-running operations.\n",
    "-   Better Resource Utilization: Multithreading allows for more efficient use of system resources.\n",
    "-   Concurrency: Enables concurrent execution of tasks.\n",
    "\n",
    "Disadvantages of Multithreading:\n",
    "-   Complexity: Multithreaded programming can be more complex than single-threaded programming, leading to potential issues like race conditions and deadlocks.\n",
    "-   Synchronization Overhead: Coordinating between threads requires synchronization mechanisms (like locks), which can introduce overhead.\n",
    "-   Debugging Difficulty: Debugging multithreaded applications can be more challenging due to the non-deterministic nature of thread execution.\n",
    "-   Increased Memory Usage: Each thread requires its own stack space, which can increase memory consumption.\n",
    "-   Global Interpreter Lock (GIL) in Python: In CPython, the GIL can limit the actual concurrency of CPU-bound threads.\n",
    "\"\"\""
   ]
  },
  {
   "cell_type": "code",
   "execution_count": 7,
   "id": "956b859b-8c3c-4445-bdd9-a2810077faf6",
   "metadata": {},
   "outputs": [
    {
     "data": {
      "text/plain": [
       "'\\nDeadlocks:\\n-   A deadlock is a situation in which two or more threads are blocked indefinitely, waiting for each other to release resources that they need.\\n-   It occurs when the following four conditions are met simultaneously:\\n    1.  Mutual Exclusion: Threads have exclusive access to the resources they require.\\n    2.  Hold and Wait: Threads hold resources while waiting for additional resources.\\n    3.  No Preemption: Resources cannot be forcibly taken away from a thread; they can only be released voluntarily.\\n    4.  Circular Wait: A circular chain of threads exists, where each thread is waiting for a resource held by the next thread in the chain.\\n\\nRace Conditions:\\n-   A race condition is a situation in which the behavior of a program depends on the relative timing or interleaving of multiple threads.\\n-   It occurs when two or more threads access shared data concurrently, and the final outcome of the execution depends on the particular order in which the threads access the data.\\n-   Race conditions can lead to unpredictable and erroneous results, as the order of execution can vary each time the program is run.\\n'"
      ]
     },
     "execution_count": 7,
     "metadata": {},
     "output_type": "execute_result"
    }
   ],
   "source": [
    "# Q6. Explain deadlocks and race conditions.\n",
    "\n",
    "\"\"\"\n",
    "Deadlocks:\n",
    "-   A deadlock is a situation in which two or more threads are blocked indefinitely, waiting for each other to release resources that they need.\n",
    "-   It occurs when the following four conditions are met simultaneously:\n",
    "    1.  Mutual Exclusion: Threads have exclusive access to the resources they require.\n",
    "    2.  Hold and Wait: Threads hold resources while waiting for additional resources.\n",
    "    3.  No Preemption: Resources cannot be forcibly taken away from a thread; they can only be released voluntarily.\n",
    "    4.  Circular Wait: A circular chain of threads exists, where each thread is waiting for a resource held by the next thread in the chain.\n",
    "\n",
    "Race Conditions:\n",
    "-   A race condition is a situation in which the behavior of a program depends on the relative timing or interleaving of multiple threads.\n",
    "-   It occurs when two or more threads access shared data concurrently, and the final outcome of the execution depends on the particular order in which the threads access the data.\n",
    "-   Race conditions can lead to unpredictable and erroneous results, as the order of execution can vary each time the program is run.\n",
    "\"\"\""
   ]
  }
 ],
 "metadata": {
  "kernelspec": {
   "display_name": "Python 3 (ipykernel)",
   "language": "python",
   "name": "python3"
  },
  "language_info": {
   "codemirror_mode": {
    "name": "ipython",
    "version": 3
   },
   "file_extension": ".py",
   "mimetype": "text/x-python",
   "name": "python",
   "nbconvert_exporter": "python",
   "pygments_lexer": "ipython3",
   "version": "3.11.5"
  },
  "widgets": {
   "application/vnd.jupyter.widget-state+json": {
    "state": {},
    "version_major": 2,
    "version_minor": 0
   }
  }
 },
 "nbformat": 4,
 "nbformat_minor": 5
}
