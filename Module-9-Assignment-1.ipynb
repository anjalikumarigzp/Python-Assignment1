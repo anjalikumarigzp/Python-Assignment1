{
 "cells": [
  {
   "cell_type": "markdown",
   "id": "ab520465-76a1-4882-b3ee-0656fd4f4389",
   "metadata": {},
   "source": [
    "## Assignment Solutions for OOPs in Python\n",
    "\n"
   ]
  },
  {
   "cell_type": "code",
   "execution_count": 13,
   "id": "a3aafe05-aecc-41bf-948a-67fa398f546d",
   "metadata": {},
   "outputs": [
    {
     "name": "stdout",
     "output_type": "stream",
     "text": [
      "Q1: Vehicle Class\n",
      "Vehicle Name: Truck, Max Speed: 120, Average: 15\n"
     ]
    }
   ],
   "source": [
    "# Q1: Vehicle class with init method\n",
    "class Vehicle:\n",
    "    def __init__(self, name_of_vehicle, max_speed, average_of_vehicle):\n",
    "        self.name_of_vehicle = name_of_vehicle\n",
    "        self.max_speed = max_speed\n",
    "        self.average_of_vehicle = average_of_vehicle\n",
    "\n",
    "print(\"Q1: Vehicle Class\")\n",
    "vehicle1 = Vehicle(\"Truck\", 120, 15)\n",
    "print(f\"Vehicle Name: {vehicle1.name_of_vehicle}, Max Speed: {vehicle1.max_speed}, Average: {vehicle1.average_of_vehicle}\")\n"
   ]
  },
  {
   "cell_type": "code",
   "execution_count": 10,
   "id": "78a56c64-6743-45b8-965c-1c9b4553f730",
   "metadata": {},
   "outputs": [],
   "source": [
    "# Q2: Child class Car inheriting from Vehicle with seating_capacity method\n",
    "class Car(Vehicle):\n",
    "    def seating_capacity(self, capacity):\n",
    "        return f\"The seating capacity of {self.name_of_vehicle} is {capacity} passengers.\"\n",
    "\n"
   ]
  },
  {
   "cell_type": "code",
   "execution_count": 11,
   "id": "000d6c55-3017-4790-a1c1-e442534f906d",
   "metadata": {},
   "outputs": [
    {
     "name": "stdout",
     "output_type": "stream",
     "text": [
      "\n",
      "Q3: Multiple Inheritance\n",
      "Engine Type: Diesel\n",
      "Body Type: SUV\n"
     ]
    }
   ],
   "source": [
    "# Q3: Multiple Inheritance demonstration\n",
    "class Engine:\n",
    "    def engine_type(self):\n",
    "        return \"Diesel\"\n",
    "\n",
    "class Body:\n",
    "    def body_type(self):\n",
    "        return \"SUV\"\n",
    "\n",
    "class Truck(Engine, Body):\n",
    "    pass\n",
    "\n",
    "# Example usage of multiple inheritance\n",
    "truck = Truck()\n",
    "print(\"\\nQ3: Multiple Inheritance\")\n",
    "print(\"Engine Type:\", truck.engine_type())\n",
    "print(\"Body Type:\", truck.body_type())\n"
   ]
  },
  {
   "cell_type": "code",
   "execution_count": 12,
   "id": "95d1c575-e89a-449e-b163-47cd651d964b",
   "metadata": {},
   "outputs": [
    {
     "name": "stdout",
     "output_type": "stream",
     "text": [
      "\n",
      "Q5: Method Overriding\n",
      "This is the Child class\n"
     ]
    }
   ],
   "source": [
    "\n",
    "# Q5: Method Overriding demonstration\n",
    "class Parent:\n",
    "    def show(self):\n",
    "        return \"This is the Parent class\"\n",
    "\n",
    "class Child(Parent):\n",
    "    def show(self):\n",
    "        return \"This is the Child class\"\n",
    "\n",
    "# Example usage of method overriding\n",
    "obj = Child()\n",
    "print(\"\\nQ5: Method Overriding\")\n",
    "print(obj.show())\n"
   ]
  }
 ],
 "metadata": {
  "kernelspec": {
   "display_name": "Python 3 (ipykernel)",
   "language": "python",
   "name": "python3"
  },
  "language_info": {
   "codemirror_mode": {
    "name": "ipython",
    "version": 3
   },
   "file_extension": ".py",
   "mimetype": "text/x-python",
   "name": "python",
   "nbconvert_exporter": "python",
   "pygments_lexer": "ipython3",
   "version": "3.11.5"
  },
  "widgets": {
   "application/vnd.jupyter.widget-state+json": {
    "state": {},
    "version_major": 2,
    "version_minor": 0
   }
  }
 },
 "nbformat": 4,
 "nbformat_minor": 5
}
