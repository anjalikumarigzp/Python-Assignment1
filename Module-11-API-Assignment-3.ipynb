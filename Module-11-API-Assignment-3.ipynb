{
 "cells": [
  {
   "cell_type": "markdown",
   "id": "c88b1988-c5af-41db-98bd-9694e6e3aa11",
   "metadata": {},
   "source": [
    "## Q1. What is an API? Give an example where an API is used in real life.\n",
    "\n",
    "**API (Application Programming Interface)** is a set of rules and protocols that allows different software systems to communicate with each other.\n",
    "\n",
    "### ✅ Real-life Example:\n",
    "- **Google Maps API**: Used by cab services (like Uber/Ola) to fetch map data, distances, and directions."
   ]
  },
  {
   "cell_type": "markdown",
   "id": "ae038bed-cf9e-4f84-925c-821f747e120b",
   "metadata": {},
   "source": [
    "## Q2. Advantages and Disadvantages of Using APIs\n",
    "\n",
    "### ✅ Advantages:\n",
    "1. **Modularity**: Encourages clean separation between frontend and backend.\n",
    "2. **Efficiency**: Allows systems to reuse functions and data.\n",
    "3. **Integration**: Connects different platforms (e.g., payment gateways, social media logins).\n",
    "4. **Automation**: Automates tasks across applications.\n",
    "\n",
    "### ❌ Disadvantages:\n",
    "1. **Security Risks**: If not protected properly, APIs can be vulnerable to attacks.\n",
    "2. **Complexity**: Can be difficult to manage if APIs are not documented or designed properly.\n",
    "3. **Dependency**: Over-reliance on third-party APIs can break your application if the external service changes or fails.\n"
   ]
  },
  {
   "cell_type": "markdown",
   "id": "5dff6994-3fd9-4047-8ef8-6b0eb7457f7c",
   "metadata": {},
   "source": [
    "## Q3. What is a Web API? Difference Between API and Web API\n",
    "**Web API** is an API that can be accessed over the web using HTTP protocols.\n",
    "\n",
    "### ➕ Example:\n",
    "- `https://api.openweathermap.org/data/2.5/weather?q=Delhi&appid=your_api_key`\n",
    "\n",
    "### 🔍 Differences:\n",
    "\n",
    "| Feature           | API                                   | Web API                                |\n",
    "|------------------|----------------------------------------|----------------------------------------|\n",
    "| Definition        | General interface for communication    | Specific to communication over the web |\n",
    "| Protocols         | May use any (e.g., COM, Java API)      | Uses HTTP/HTTPS                        |\n",
    "| Usage             | Desktop apps, libraries                | Web-based services and apps            |\n"
   ]
  },
  {
   "cell_type": "markdown",
   "id": "dea94d6a-6596-4ef2-be4f-85b49976e213",
   "metadata": {},
   "source": [
    "##  Q4. Explain REST and SOAP Architecture. Mention Shortcomings of SOAP\n",
    "\n",
    "### ✅ REST (Representational State Transfer)\n",
    "- Lightweight architecture using HTTP methods like GET, POST, PUT, DELETE.\n",
    "- Uses JSON or XML for data.\n",
    "- Stateless (each request is independent).\n",
    "\n",
    "### ✅ SOAP (Simple Object Access Protocol)\n",
    "- XML-based protocol that operates over HTTP, SMTP, or other protocols.\n",
    "- Strict standards for messaging structure.\n",
    "- Uses WSDL (Web Services Description Language) for service definition.\n",
    "\n",
    "### ❌ Shortcomings of SOAP:\n",
    "1. XML makes it heavy and slow.\n",
    "2. Complex to implement and understand.\n",
    "3. Less flexible compared to REST."
   ]
  },
  {
   "cell_type": "markdown",
   "id": "5323dd3f-3fa1-4304-bac8-cad561ebbea2",
   "metadata": {},
   "source": [
    "## Q5. Difference Between REST and SOAP\n",
    "| Feature          | REST                                  | SOAP                                  |\r\n",
    "|------------------|----------------------------------------|----------------------------------------|\r\n",
    "| Protocol         | Uses HTTP                             | Uses HTTP, SMTP, TCP, etc.             |\r\n",
    "| Data Format      | JSON, XML                             | Only XML                               |\r\n",
    "| Simplicity       | Simple and flexible                   | Complex with strict rules              |\r\n",
    "| Performance      | Fast and lightweight                  | Slower due to XML overhead             |\r\n",
    "| Standards        | No official standard                  | Strict WSDL and XML-based              |\r\n",
    "| Use Case         | Web apps, mobile apps                 | Enterprise and financial systems       |\r\n",
    "\n"
   ]
  },
  {
   "cell_type": "code",
   "execution_count": null,
   "id": "f9d14492-352b-448a-88b9-166c1ab59fe6",
   "metadata": {},
   "outputs": [],
   "source": []
  },
  {
   "cell_type": "code",
   "execution_count": null,
   "id": "34ea8f44-3fa7-4027-92e2-14878684d0ab",
   "metadata": {},
   "outputs": [],
   "source": []
  }
 ],
 "metadata": {
  "kernelspec": {
   "display_name": "Python 3 (ipykernel)",
   "language": "python",
   "name": "python3"
  },
  "language_info": {
   "codemirror_mode": {
    "name": "ipython",
    "version": 3
   },
   "file_extension": ".py",
   "mimetype": "text/x-python",
   "name": "python",
   "nbconvert_exporter": "python",
   "pygments_lexer": "ipython3",
   "version": "3.11.5"
  },
  "widgets": {
   "application/vnd.jupyter.widget-state+json": {
    "state": {},
    "version_major": 2,
    "version_minor": 0
   }
  }
 },
 "nbformat": 4,
 "nbformat_minor": 5
}
