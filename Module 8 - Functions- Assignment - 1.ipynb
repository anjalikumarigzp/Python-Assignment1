{
 "cells": [
  {
   "cell_type": "markdown",
   "id": "4e655c7c",
   "metadata": {},
   "source": [
    "## Assignment: Data Science Masters Hindi"
   ]
  },
  {
   "cell_type": "markdown",
   "id": "863d283c",
   "metadata": {},
   "source": [
    "### Q1. Which keyword is used to create a function? Create a function to return a list of odd numbers in the range of 1 to 25."
   ]
  },
  {
   "cell_type": "code",
   "execution_count": null,
   "id": "c153fd52",
   "metadata": {},
   "outputs": [],
   "source": [
    "def get_odd_numbers():\n",
    "    return [i for i in range(1, 26) if i % 2 != 0]\n",
    "\n",
    "print(get_odd_numbers())"
   ]
  },
  {
   "cell_type": "markdown",
   "id": "4306b90b",
   "metadata": {},
   "source": [
    "### Q2. Why *args and **kwargs is used in some functions? Create a function each for *args and **kwargs to demonstrate their use."
   ]
  },
  {
   "cell_type": "code",
   "execution_count": null,
   "id": "97317f66",
   "metadata": {},
   "outputs": [],
   "source": [
    "def func_args(*args):\n",
    "    for arg in args:\n",
    "        print(arg)\n",
    "\n",
    "func_args(1, 2, 3, 'a')\n",
    "\n",
    "def func_kwargs(**kwargs):\n",
    "    for key, value in kwargs.items():\n",
    "        print(f\"{key}: {value}\")\n",
    "\n",
    "func_kwargs(name=\"Anjali\", age=23)"
   ]
  },
  {
   "cell_type": "markdown",
   "id": "0596a818",
   "metadata": {},
   "source": [
    "### Q3. What is an iterator in python? Name the method used to initialise the iterator object and the method used for iteration."
   ]
  },
  {
   "cell_type": "code",
   "execution_count": null,
   "id": "acb50a40",
   "metadata": {},
   "outputs": [],
   "source": [
    "lst = [2, 4, 6, 8, 10, 12, 14, 16, 18, 20]\n",
    "iterator = iter(lst)\n",
    "for _ in range(5):\n",
    "    print(next(iterator))"
   ]
  },
  {
   "cell_type": "markdown",
   "id": "0e44bdb9",
   "metadata": {},
   "source": [
    "### Q4. What is a generator function in python? Why yield keyword is used? Give an example of a generator function."
   ]
  },
  {
   "cell_type": "code",
   "execution_count": null,
   "id": "801dbade",
   "metadata": {},
   "outputs": [],
   "source": [
    "def square_numbers(n):\n",
    "    for i in range(n):\n",
    "        yield i * i\n",
    "\n",
    "for num in square_numbers(5):\n",
    "    print(num)"
   ]
  },
  {
   "cell_type": "markdown",
   "id": "135cfea1",
   "metadata": {},
   "source": [
    "### Q5. Create a generator function for prime numbers less than 1000. Use the next() method to print the first 20 prime numbers."
   ]
  },
  {
   "cell_type": "code",
   "execution_count": null,
   "id": "0123c98d",
   "metadata": {},
   "outputs": [],
   "source": [
    "def is_prime(n):\n",
    "    if n < 2:\n",
    "        return False\n",
    "    for i in range(2, int(n**0.5) + 1):\n",
    "        if n % i == 0:\n",
    "            return False\n",
    "    return True\n",
    "\n",
    "def prime_gen():\n",
    "    num = 2\n",
    "    while num < 1000:\n",
    "        if is_prime(num):\n",
    "            yield num\n",
    "        num += 1\n",
    "\n",
    "pg = prime_gen()\n",
    "for _ in range(20):\n",
    "    print(next(pg))"
   ]
  },
  {
   "cell_type": "markdown",
   "id": "b77aadf1",
   "metadata": {},
   "source": [
    "### Q6. Write a python program to print the first 10 Fibonacci numbers using a while loop."
   ]
  },
  {
   "cell_type": "code",
   "execution_count": null,
   "id": "43936079",
   "metadata": {},
   "outputs": [],
   "source": [
    "a, b = 0, 1\n",
    "count = 0\n",
    "while count < 10:\n",
    "    print(a)\n",
    "    a, b = b, a + b\n",
    "    count += 1"
   ]
  },
  {
   "cell_type": "markdown",
   "id": "8424519f",
   "metadata": {},
   "source": [
    "### Q7. Write a List Comprehension to iterate through the given string: ‘pwskills’."
   ]
  },
  {
   "cell_type": "code",
   "execution_count": null,
   "id": "24788526",
   "metadata": {},
   "outputs": [],
   "source": [
    "string = 'pwskills'\n",
    "output = [char for char in string]\n",
    "print(output)"
   ]
  },
  {
   "cell_type": "markdown",
   "id": "1b364ce8",
   "metadata": {},
   "source": [
    "### Q8. Write a python program to check whether a given number is Palindrome or not using a while loop."
   ]
  },
  {
   "cell_type": "code",
   "execution_count": null,
   "id": "22f114e4",
   "metadata": {},
   "outputs": [],
   "source": [
    "num = 121\n",
    "original = num\n",
    "reverse = 0\n",
    "while num > 0:\n",
    "    digit = num % 10\n",
    "    reverse = reverse * 10 + digit\n",
    "    num = num // 10\n",
    "\n",
    "print(\"Palindrome\" if original == reverse else \"Not Palindrome\")"
   ]
  },
  {
   "cell_type": "markdown",
   "id": "b1f64d22",
   "metadata": {},
   "source": [
    "### Q9. Write a code to print odd numbers from 1 to 100 using list comprehension."
   ]
  },
  {
   "cell_type": "code",
   "execution_count": null,
   "id": "cf573f9d",
   "metadata": {},
   "outputs": [],
   "source": [
    "numbers = [i for i in range(1, 101)]\n",
    "odd_numbers = [i for i in numbers if i % 2 != 0]\n",
    "print(odd_numbers)"
   ]
  }
 ],
 "metadata": {},
 "nbformat": 4,
 "nbformat_minor": 5
}
