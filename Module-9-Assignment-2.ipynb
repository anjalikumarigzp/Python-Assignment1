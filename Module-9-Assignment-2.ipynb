{
 "cells": [
  {
   "cell_type": "code",
   "execution_count": 1,
   "id": "35dd28d7-d086-4cf4-8255-8051cd944b04",
   "metadata": {},
   "outputs": [
    {
     "name": "stdout",
     "output_type": "stream",
     "text": [
      "Car Brand: Toyota, Model: Innova\n",
      "Car Brand: Honda, Model: Civic\n"
     ]
    }
   ],
   "source": [
    "# Q1. Explain Class and Object with respect to Object-Oriented Programming. Give a suitable example.\n",
    "\n",
    "# A class is a blueprint for creating objects. It defines a set of attributes and methods that the created objects (instances) will have.\n",
    "# An object is an instance of a class.\n",
    "\n",
    "class Car:\n",
    "    def __init__(self, brand, model):\n",
    "        self.brand = brand\n",
    "        self.model = model\n",
    "\n",
    "    def display_info(self):\n",
    "        print(f\"Car Brand: {self.brand}, Model: {self.model}\")\n",
    "\n",
    "# Creating objects\n",
    "car1 = Car(\"Toyota\", \"Innova\")\n",
    "car2 = Car(\"Honda\", \"Civic\")\n",
    "\n",
    "car1.display_info()\n",
    "car2.display_info()\n"
   ]
  },
  {
   "cell_type": "code",
   "execution_count": null,
   "id": "b17ec805-8294-4452-be09-05ee34ec7123",
   "metadata": {},
   "outputs": [],
   "source": [
    "# Q2. Name the four pillars of OOPs.\n",
    "\n",
    "# The four pillars of Object-Oriented Programming are:\n",
    "# 1. Encapsulation\n",
    "# 2. Abstraction\n",
    "# 3. Inheritance\n",
    "# 4. Polymorphism\n"
   ]
  },
  {
   "cell_type": "code",
   "execution_count": null,
   "id": "e29a6706-1081-4086-9462-212abf4d9346",
   "metadata": {},
   "outputs": [],
   "source": [
    "# Q3. Explain why the __init__() function is used. Give a suitable example.\n",
    "\n",
    "# The __init__() function is a constructor in Python classes. It is automatically called when a new object is created.\n",
    "# It is used to initialize the object's attributes.\n",
    "\n",
    "class Student:\n",
    "    def __init__(self, name, roll_no):\n",
    "        self.name = name\n",
    "        self.roll_no = roll_no\n",
    "\n",
    "    def display(self):\n",
    "        print(f\"Name: {self.name}, Roll No: {self.roll_no}\")\n",
    "\n",
    "student1 = Student(\"Anjali\", 101)\n",
    "student1.display()\n"
   ]
  },
  {
   "cell_type": "code",
   "execution_count": null,
   "id": "45922bf3-7898-4c71-b911-2cc98cc5c483",
   "metadata": {},
   "outputs": [],
   "source": [
    "# Q4. Why self is used in OOPs?\n",
    "\n",
    "# 'self' is used to refer to the current instance of the class. It allows access to the attributes and methods of the class in Python.\n",
    "\n",
    "class Dog:\n",
    "    def __init__(self, name):\n",
    "        self.name = name\n",
    "\n",
    "    def bark(self):\n",
    "        print(f\"{self.name} says woof!\")\n",
    "\n",
    "dog1 = Dog(\"Bruno\")\n",
    "dog1.bark()\n"
   ]
  },
  {
   "cell_type": "code",
   "execution_count": null,
   "id": "fbdba135-a38e-46f2-933a-e7d743244bd5",
   "metadata": {},
   "outputs": [],
   "source": [
    "# Q5. What is inheritance? Give an example for each type of inheritance.\n",
    "\n",
    "# Inheritance allows one class to inherit properties and methods from another class.\n",
    "\n",
    "# 1. Single Inheritance\n",
    "class Animal:\n",
    "    def sound(self):\n",
    "        print(\"This is an animal sound\")\n",
    "\n",
    "class Dog(Animal):\n",
    "    def bark(self):\n",
    "        print(\"Dog barks\")\n",
    "\n",
    "d = Dog()\n",
    "d.sound()\n",
    "d.bark()\n",
    "\n",
    "# 2. Multiple Inheritance\n",
    "class Father:\n",
    "    def home(self):\n",
    "        print(\"Father's home\")\n",
    "\n",
    "class Mother:\n",
    "    def care(self):\n",
    "        print(\"Mother's care\")\n",
    "\n",
    "class Child(Father, Mother):\n",
    "    def play(self):\n",
    "        print(\"Child plays\")\n",
    "\n",
    "c = Child()\n",
    "c.home()\n",
    "c.care()\n",
    "c.play()\n",
    "\n",
    "# 3. Multilevel Inheritance\n",
    "class Grandparent:\n",
    "    def wisdom(self):\n",
    "        print(\"Grandparent's wisdom\")\n",
    "\n",
    "class Parent(Grandparent):\n",
    "    def guide(self):\n",
    "        print(\"Parent guides\")\n",
    "\n",
    "class Child(Parent):\n",
    "    def learn(self):\n",
    "        print(\"Child learns\")\n",
    "\n",
    "ch = Child()\n",
    "ch.wisdom()\n",
    "ch.guide()\n",
    "ch.learn()\n",
    "\n",
    "# 4. Hierarchical Inheritance\n",
    "class Vehicle:\n",
    "    def move(self):\n",
    "        print(\"Vehicle moves\")\n",
    "\n",
    "class Bike(Vehicle):\n",
    "    def wheel(self):\n",
    "        print(\"Bike has two wheels\")\n",
    "\n",
    "class Car(Vehicle):\n",
    "    def wheel(self):\n",
    "        print(\"Car has four wheels\")\n",
    "\n",
    "b = Bike()\n",
    "c = Car()\n",
    "b.move()\n",
    "b.wheel()\n",
    "c.move()\n",
    "c.wheel()\n"
   ]
  },
  {
   "cell_type": "code",
   "execution_count": null,
   "id": "d71af7f7-b076-45c1-a1dd-34dc4642b688",
   "metadata": {},
   "outputs": [],
   "source": []
  },
  {
   "cell_type": "code",
   "execution_count": null,
   "id": "d55214a6-79ad-498d-abd9-11442191c99a",
   "metadata": {},
   "outputs": [],
   "source": []
  },
  {
   "cell_type": "code",
   "execution_count": null,
   "id": "0f2680f8-1da1-4d94-89a0-54ff7339537f",
   "metadata": {},
   "outputs": [],
   "source": []
  }
 ],
 "metadata": {
  "kernelspec": {
   "display_name": "Python 3 (ipykernel)",
   "language": "python",
   "name": "python3"
  },
  "language_info": {
   "codemirror_mode": {
    "name": "ipython",
    "version": 3
   },
   "file_extension": ".py",
   "mimetype": "text/x-python",
   "name": "python",
   "nbconvert_exporter": "python",
   "pygments_lexer": "ipython3",
   "version": "3.11.5"
  },
  "widgets": {
   "application/vnd.jupyter.widget-state+json": {
    "state": {},
    "version_major": 2,
    "version_minor": 0
   }
  }
 },
 "nbformat": 4,
 "nbformat_minor": 5
}
