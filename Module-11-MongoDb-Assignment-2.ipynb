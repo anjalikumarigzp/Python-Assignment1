{
 "cells": [
  {
   "cell_type": "markdown",
   "id": "c8698450-fbf0-4f9a-8545-83bf561a2016",
   "metadata": {},
   "source": [
    "## Q1. What is MongoDB? Explain Non-relational Databases. When to Use MongoDB Over SQL?"
   ]
  },
  {
   "cell_type": "markdown",
   "id": "d24fe98a-f143-4f7f-8fb6-dd58911fe349",
   "metadata": {},
   "source": [
    "**MongoDB** is a popular open-source NoSQL (non-relational) database that stores data in **BSON (binary JSON)** documents.\n",
    "\n",
    "### 🟦 Non-relational Databases:\n",
    "- Do not use fixed table schemas.\n",
    "- Store data as JSON-like documents, key-value pairs, graphs, etc.\n",
    "- Offer high scalability and flexibility.\n",
    "\n",
    "### 🟨 When to Prefer MongoDB Over SQL:\n",
    "- When working with unstructured or semi-structured data.\n",
    "- When schema flexibility is needed.\n",
    "- For applications that require high write speeds or real-time analytics.\n",
    "- When handling large-scale distributed data.\n"
   ]
  },
  {
   "cell_type": "markdown",
   "id": "20d5d02d-5b8b-4e29-b161-13bcafddc2e1",
   "metadata": {},
   "source": [
    "## Q2. State and Explain the features of MongoDB.\n",
    "1. **Document-Oriented Storage**: Uses JSON-like documents.\r\n",
    "2. **Schema-less**: Collections don’t require the same set of fields.\r\n",
    "3. **Scalable**: Supports horizontal scaling using sharding.\r\n",
    "4. **Indexing**: Supports secondary indexes on fields.\r\n",
    "5. **Replication**: Uses replica sets for high availability.\r\n",
    "6. **Aggregation Framework**: Powerful tool for data analysis and transformation.\r\n",
    "7. **High Performance**: Fast read/write operations.\r\n"
   ]
  },
  {
   "cell_type": "markdown",
   "id": "dfa5d795-4ff3-4a85-872f-fbeb8b9ced90",
   "metadata": {},
   "source": [
    "## Q3. Write a code to connect MongoDB to Python. Also, create a database and a collection in MongoDB."
   ]
  },
  {
   "cell_type": "code",
   "execution_count": null,
   "id": "4cff6e9d-86f2-46a6-859a-4e2f59486139",
   "metadata": {},
   "outputs": [],
   "source": [
    "import pymongo\n",
    "\n",
    "# Create a client\n",
    "client = pymongo.MongoClient(\"mongodb://localhost:27017/\")\n",
    "\n",
    "# Create database\n",
    "mydb = client[\"school\"]\n",
    "\n",
    "# Create collection\n",
    "students_collection = mydb[\"students\"]\n",
    "\n",
    "print(\"Database and collection created!\")\n"
   ]
  },
  {
   "cell_type": "markdown",
   "id": "7da61fa7-6e95-4a00-a09f-4242c461879e",
   "metadata": {},
   "source": [
    "## Q4. Using the database and the collection created in question number 3, write a code to insert one record,and insert many records. Use the find() and find_one() methods to print the inserted record."
   ]
  },
  {
   "cell_type": "code",
   "execution_count": null,
   "id": "63272623-f62c-4c9e-b259-c03b89439f6f",
   "metadata": {},
   "outputs": [],
   "source": [
    "# Insert one document\n",
    "students_collection.insert_one({\"name\": \"Anjali\", \"age\": 22, \"course\": \"Python\"})\n",
    "\n",
    "# Insert many documents\n",
    "students_collection.insert_many([\n",
    "    {\"name\": \"Ravi\", \"age\": 23, \"course\": \"Java\"},\n",
    "    {\"name\": \"Sneha\", \"age\": 21, \"course\": \"Data Science\"}\n",
    "])\n",
    "\n",
    "# Find one record\n",
    "print(\"Find One:\")\n",
    "print(students_collection.find_one())\n",
    "\n",
    "# Find all records\n",
    "print(\"\\nFind All:\")\n",
    "for student in students_collection.find():\n",
    "    print(student)\n"
   ]
  },
  {
   "cell_type": "markdown",
   "id": "8395700e-2b4d-4486-b477-acc7fb6a6764",
   "metadata": {},
   "source": [
    "## Q5. Explain how you can use the find() method to query the MongoDB database. Write a simple code to demonstrate this.\n",
    "### `find()` is used to retrieve all or specific documents from a MongoDB collection.\r\n",
    "\r\n",
    "You can use filters like:\r\n",
    "- Equality: `{\"name\": \"Anjali\"}`\r\n",
    "- Comparison: `{\"age\": {\"$gt\": 21}}`\r\n",
    "- Logical: `{\"$or\": [{\"age\": 21}, {\"course\": \"Java\"}]}`\r\n"
   ]
  },
  {
   "cell_type": "code",
   "execution_count": null,
   "id": "7ef81faf-0c41-4f11-af32-fd3bd65fbf44",
   "metadata": {},
   "outputs": [],
   "source": [
    "# Find all students aged above 21\n",
    "results = students_collection.find({\"age\": {\"$gt\": 21}})\n",
    "\n",
    "print(\"Students aged above 21:\")\n",
    "for r in results:\n",
    "    print(r)\n"
   ]
  },
  {
   "cell_type": "markdown",
   "id": "70651969-4936-45af-ba7d-592a54f23287",
   "metadata": {},
   "source": [
    "## Q6. Explain the sort() method. Give an example to demonstrate sorting in MongoDB.\n",
    "### `sort()` is used to sort the results of a query in ascending or descending order.\r\n",
    "\r\n",
    "Syntax: `.find().sort(\"field_name\", 1 or -1)`\r\n",
    "- 1 = Ascending\r\n",
    "- -1 = Descending"
   ]
  },
  {
   "cell_type": "code",
   "execution_count": null,
   "id": "a14dbe71-7eef-4f36-b632-b8a828e01e7c",
   "metadata": {},
   "outputs": [],
   "source": [
    "# Sort by age in ascending order\n",
    "print(\"Sorted by age:\")\n",
    "for student in students_collection.find().sort(\"age\", 1):\n",
    "    print(student)\n"
   ]
  },
  {
   "cell_type": "markdown",
   "id": "98976171-0b0f-40ca-a238-2496e2744af0",
   "metadata": {},
   "source": [
    "## Q7. Explain why delete_one(), delete_many(), and drop() is used.\n",
    "- `delete_one(filter)`: Deletes the first document matching the filter.\r\n",
    "- `delete_many(filter)`: Deletes all documents matching the filter.\r\n",
    "- `drop()`: Completely deletes the collection.\r\n",
    "\r\n",
    "### Example:\r\n"
   ]
  },
  {
   "cell_type": "code",
   "execution_count": null,
   "id": "e9927372-7970-41e0-85f0-6bb84ae9edf8",
   "metadata": {},
   "outputs": [],
   "source": [
    "# Delete one record\n",
    "students_collection.delete_one({\"name\": \"Ravi\"})\n",
    "\n",
    "# Delete many records\n",
    "students_collection.delete_many({\"course\": \"Python\"})\n",
    "\n",
    "# Drop the entire collection\n",
    "# students_collection.drop()\n"
   ]
  }
 ],
 "metadata": {
  "kernelspec": {
   "display_name": "Python 3 (ipykernel)",
   "language": "python",
   "name": "python3"
  },
  "language_info": {
   "codemirror_mode": {
    "name": "ipython",
    "version": 3
   },
   "file_extension": ".py",
   "mimetype": "text/x-python",
   "name": "python",
   "nbconvert_exporter": "python",
   "pygments_lexer": "ipython3",
   "version": "3.11.5"
  },
  "widgets": {
   "application/vnd.jupyter.widget-state+json": {
    "state": {},
    "version_major": 2,
    "version_minor": 0
   }
  }
 },
 "nbformat": 4,
 "nbformat_minor": 5
}
