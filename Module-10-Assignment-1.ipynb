{
 "cells": [
  {
   "cell_type": "markdown",
   "id": "08663c55",
   "metadata": {},
   "source": [
    "# 12 Feb Assignment - Exception Handling"
   ]
  },
  {
   "cell_type": "code",
   "execution_count": null,
   "id": "feb4daff",
   "metadata": {},
   "outputs": [],
   "source": [
    "\n",
    "# Q1. What is an Exception in Python? Write the difference between Exceptions and Syntax errors.\n",
    "\n",
    "# An Exception is an error that occurs during the execution of a program, disrupting the normal flow.\n",
    "\n",
    "# Difference:\n",
    "# - Syntax Errors occur when the parser detects an incorrect syntax.\n",
    "# - Exceptions occur during execution, even if the syntax is correct.\n",
    "\n",
    "# Example of Syntax Error:\n",
    "# print(\"Hello\"   # Missing closing parenthesis (uncomment to test)\n",
    "\n",
    "# Example of Exception:\n",
    "try:\n",
    "    result = 10 / 0\n",
    "except ZeroDivisionError as e:\n",
    "    print(\"Caught an exception:\", e)\n"
   ]
  },
  {
   "cell_type": "code",
   "execution_count": null,
   "id": "35c91eba",
   "metadata": {},
   "outputs": [],
   "source": [
    "\n",
    "# Q2. What happens when an exception is not handled? Explain with an example.\n",
    "\n",
    "# If an exception is not handled, the program terminates abruptly and displays a traceback error.\n",
    "\n",
    "# Handled version:\n",
    "try:\n",
    "    result = 10 / 0\n",
    "except ZeroDivisionError:\n",
    "    print(\"Cannot divide by zero.\")\n"
   ]
  },
  {
   "cell_type": "code",
   "execution_count": null,
   "id": "feff12ca",
   "metadata": {},
   "outputs": [],
   "source": [
    "\n",
    "# Q3. Which Python statements are used to catch and handle exceptions? Explain with an example.\n",
    "\n",
    "# Python uses try-except blocks to catch and handle exceptions.\n",
    "\n",
    "try:\n",
    "    num = int(input(\"Enter a number: \"))\n",
    "    print(\"Square is:\", num ** 2)\n",
    "except ValueError:\n",
    "    print(\"Invalid input. Please enter a valid integer.\")\n"
   ]
  },
  {
   "cell_type": "code",
   "execution_count": null,
   "id": "df80f595",
   "metadata": {},
   "outputs": [],
   "source": [
    "\n",
    "# Q4. Explain with an example:\n",
    "# try and else\n",
    "# finally\n",
    "# raise\n",
    "\n",
    "try:\n",
    "    a = int(input(\"Enter a number: \"))\n",
    "    print(\"Inside try block\")\n",
    "except ValueError:\n",
    "    print(\"Invalid input\")\n",
    "else:\n",
    "    print(\"Inside else block - no exception occurred\")\n",
    "finally:\n",
    "    print(\"This block always executes\")\n",
    "\n",
    "# raise example\n",
    "def divide(a, b):\n",
    "    if b == 0:\n",
    "        raise ZeroDivisionError(\"Cannot divide by zero!\")\n",
    "    return a / b\n",
    "\n",
    "try:\n",
    "    print(divide(10, 0))\n",
    "except ZeroDivisionError as e:\n",
    "    print(\"Exception:\", e)\n"
   ]
  },
  {
   "cell_type": "code",
   "execution_count": null,
   "id": "796fa192",
   "metadata": {},
   "outputs": [],
   "source": [
    "\n",
    "# Q5. What are Custom Exceptions in Python? Why do we need them? Explain with an example.\n",
    "\n",
    "# Custom exceptions are user-defined exceptions derived from the base Exception class.\n",
    "# They are used to create specific error types relevant to our application logic.\n",
    "\n",
    "class NegativeAgeError(Exception):\n",
    "    pass\n",
    "\n",
    "def validate_age(age):\n",
    "    if age < 0:\n",
    "        raise NegativeAgeError(\"Age cannot be negative.\")\n",
    "\n",
    "try:\n",
    "    validate_age(-5)\n",
    "except NegativeAgeError as e:\n",
    "    print(\"Caught custom exception:\", e)\n"
   ]
  },
  {
   "cell_type": "code",
   "execution_count": null,
   "id": "ebe51214",
   "metadata": {},
   "outputs": [],
   "source": [
    "\n",
    "# Q6. Create a custom exception class. Use this class to handle an exception.\n",
    "\n",
    "class InsufficientBalanceError(Exception):\n",
    "    def __init__(self, message=\"Insufficient balance in your account\"):\n",
    "        self.message = message\n",
    "        super().__init__(self.message)\n",
    "\n",
    "def withdraw(balance, amount):\n",
    "    if amount > balance:\n",
    "        raise InsufficientBalanceError(f\"Attempted to withdraw {amount}, but balance is only {balance}\")\n",
    "    return balance - amount\n",
    "\n",
    "try:\n",
    "    remaining_balance = withdraw(1000, 1500)\n",
    "    print(\"Withdrawal successful. Remaining balance:\", remaining_balance)\n",
    "except InsufficientBalanceError as e:\n",
    "    print(\"Custom Exception:\", e)\n"
   ]
  }
 ],
 "metadata": {},
 "nbformat": 4,
 "nbformat_minor": 5
}