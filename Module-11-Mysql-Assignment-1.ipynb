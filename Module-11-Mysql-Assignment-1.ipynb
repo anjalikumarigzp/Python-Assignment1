{
 "cells": [
  {
   "cell_type": "markdown",
   "id": "acbf2462-4771-4793-aa86-2a2a792bd88e",
   "metadata": {},
   "source": [
    " ## Q1. What is a database? Differentiate between SQL and NoSQL databases\n",
    "\n",
    "A **database** is an organized collection of data that allows for efficient storage, access, and management.\n",
    "\n",
    "### SQL vs NoSQL\n",
    "\n",
    "| Feature            | SQL (Relational)                      | NoSQL (Non-relational)                 |\n",
    "|--------------------|----------------------------------------|----------------------------------------|\n",
    "| Structure          | Tables (rows and columns)             | Key-Value, Document, Graph, etc.       |\n",
    "| Schema             | Fixed                                  | Dynamic                                |\n",
    "| Scalability        | Vertical                               | Horizontal                             |\n",
    "| Query Language     | SQL                                    | JSON-like or custom APIs               |\n",
    "| Best for           | Structured data                        | Unstructured or semi-structured data   |\n",
    "| Examples           | MySQL, PostgreSQL, Oracle              | MongoDB, Cassandra, Firebase           |"
   ]
  },
  {
   "cell_type": "markdown",
   "id": "1e45ceda-05aa-495e-b04d-757d3af5c212",
   "metadata": {},
   "source": [
    "## Q2. What is DDL? Explain CREATE, DROP, ALTER, and TRUNCATE with an example\n",
    "\n",
    "**DDL (Data Definition Language)** is used to define and modify database structures like tables and schemas.\n",
    "\n",
    "#### Examples:\n",
    "\n",
    "- `CREATE`: Creates a new table\n",
    "- `DROP`: Deletes a table\n",
    "- `ALTER`: Modifies table structure\n",
    "- `TRUNCATE`: Removes all data but keeps structure\n",
    "\n",
    "students;\r\n"
   ]
  },
  {
   "cell_type": "markdown",
   "id": "68d82044-86aa-4e26-8b4f-517fd39a6363",
   "metadata": {},
   "source": [
    "**CREATE**\n",
    "CREATE TABLE students (id INT, name VARCHAR(50));\n",
    "\n",
    "**ALTER**\n",
    "ALTER TABLE students ADD age INT;\n",
    "\n",
    "**TRUNCATE**\n",
    "TRUNCATE TABLE students;\n",
    "\n",
    "**DROP**\n",
    "DROP TABLE students;\n"
   ]
  },
  {
   "cell_type": "markdown",
   "id": "3478bc14-8559-4690-b4c8-bf8e576c5266",
   "metadata": {},
   "source": [
    "## Q3. What is DML? Explain INSERT, UPDATE, and DELETE with an example\n",
    "\n",
    "**DML (Data Manipulation Language)** is used to manage data in existing tables.\n",
    "\n",
    "#### Examples:\n",
    "\n",
    "- `INSERT`: Adds new rows\n",
    "- `UPDATE`: Modifies existing rows\n",
    "- `DELETE`: Removes rows\n",
    "\n",
    "-- INSERT\n",
    "INSERT INTO students (id, name) VALUES (1, 'Anjali');\n",
    "\n",
    "-- UPDATE\n",
    "UPDATE students SET name = 'Anju' WHERE id = 1;\n",
    "\n",
    "-- DELETE\n",
    "DELETE FROM students WHERE id = 1;\n"
   ]
  },
  {
   "cell_type": "markdown",
   "id": "f5eb95f9-0c06-43d9-bbcf-7703d021feae",
   "metadata": {},
   "source": [
    "## Q4. What is DQL? Explain SELECT with an example\n",
    "\n",
    "**DQL (Data Query Language)** is used to query and fetch data from the database.\n",
    "\n",
    "#### Example:\n",
    "\n",
    "- `SELECT`: Retrieves rows from one or more tables\n",
    "\n",
    "SELECT name FROM students WHERE id = 1;"
   ]
  },
  {
   "cell_type": "markdown",
   "id": "758460ee-66ed-4285-99fa-3606d484fd46",
   "metadata": {},
   "source": [
    "## Q5. Explain Primary Key and Foreign Key\n",
    "\n",
    "**Primary Key**: A column (or combination) that uniquely identifies each row in a table.\n",
    "\n",
    "**Foreign Key**: A column that creates a link between two tables by referencing the primary key of another table.\n",
    "\n",
    "-- PRIMARY KEY & FOREIGN KEY \n",
    "#### example ####\n",
    "CREATE TABLE students (\n",
    "    id INT PRIMARY KEY,\n",
    "    name VARCHAR(50)\n",
    ");\n",
    "\n",
    "CREATE TABLE marks (\n",
    "    mark_id INT,\n",
    "    student_id INT,\n",
    "    score INT,\n",
    "    FOREIGN KEY (student_id) REFERENCES students(id)\n",
    ");"
   ]
  },
  {
   "cell_type": "markdown",
   "id": "38162f74-7200-4959-ae0a-60700106e28e",
   "metadata": {},
   "source": [
    "##  Q6. Write a Python code to connect MySQL to Python"
   ]
  },
  {
   "cell_type": "code",
   "execution_count": null,
   "id": "5e544a2e-edef-4e92-9245-51299c794310",
   "metadata": {},
   "outputs": [],
   "source": [
    "import mysql.connector\n",
    "\n",
    "# Establish connection to the database\n",
    "conn = mysql.connector.connect(\n",
    "    host=\"localhost\",\n",
    "    user=\"your_username\",\n",
    "    password=\"your_password\",\n",
    "    database=\"your_database\"\n",
    ")\n",
    "\n",
    "# Create a cursor object\n",
    "cur = conn.cursor()\n",
    "\n",
    "# Execute SQL command\n",
    "cur.execute(\"SELECT * FROM students\")\n",
    "\n",
    "# Fetch and print results\n",
    "rows = cur.fetchall()\n",
    "for row in rows:\n",
    "    print(row)\n",
    "\n",
    "# Close the connection\n",
    "conn.close()\n"
   ]
  },
  {
   "cell_type": "markdown",
   "id": "d0e752de-a60a-4585-b9fb-7090ec184ab6",
   "metadata": {},
   "source": [
    "### Explanation:\n",
    "- `cursor()`: Creates a cursor to interact with the database.\n",
    "- `execute()`: Executes an SQL statement (SELECT, INSERT, etc.).\n"
   ]
  },
  {
   "cell_type": "markdown",
   "id": "d3ec6caa-3b54-4830-a38c-b89d0af6e5f9",
   "metadata": {},
   "source": [
    "## Q7. Order of execution of SQL clauses\n",
    "\n",
    "SQL queries are executed in the following order:\n",
    "\n",
    "1. FROM\n",
    "2. JOIN\n",
    "3. WHERE\n",
    "4. GROUP BY\n",
    "5. HAVING\n",
    "6. SELECT\n",
    "7. ORDER BY\n",
    "8. LIMIT / OFFSET\n",
    "\n",
    "SELECT name, COUNT(*) \n",
    "FROM students \n",
    "WHERE age > 18 \n",
    "GROUP BY name \n",
    "HAVING COUNT(*) > 1 \n",
    "ORDER BY name;"
   ]
  },
  {
   "cell_type": "code",
   "execution_count": null,
   "id": "14432422-672f-4869-908d-71452c756b08",
   "metadata": {},
   "outputs": [],
   "source": []
  }
 ],
 "metadata": {
  "kernelspec": {
   "display_name": "Python 3 (ipykernel)",
   "language": "python",
   "name": "python3"
  },
  "language_info": {
   "codemirror_mode": {
    "name": "ipython",
    "version": 3
   },
   "file_extension": ".py",
   "mimetype": "text/x-python",
   "name": "python",
   "nbconvert_exporter": "python",
   "pygments_lexer": "ipython3",
   "version": "3.11.5"
  },
  "widgets": {
   "application/vnd.jupyter.widget-state+json": {
    "state": {},
    "version_major": 2,
    "version_minor": 0
   }
  }
 },
 "nbformat": 4,
 "nbformat_minor": 5
}
